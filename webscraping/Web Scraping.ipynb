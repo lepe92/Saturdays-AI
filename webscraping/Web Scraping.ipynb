{
 "cells": [
  {
   "cell_type": "markdown",
   "metadata": {},
   "source": [
    "# How can I get my data if I do not have a file?\n",
    "\n",
    "<img src=\"img/web-api.png\" style=\"width:600px\">"
   ]
  },
  {
   "cell_type": "markdown",
   "metadata": {},
   "source": [
    "<img src=\"img/whiteimage.png\" style=\"width:650px\">"
   ]
  },
  {
   "cell_type": "markdown",
   "metadata": {},
   "source": [
    "## API\n",
    "\n",
    "An API is an application programming interface. It is a set of rules that allow programs to talk to each other. The developer creates the API on the server and allows the client to talk to it."
   ]
  },
  {
   "cell_type": "code",
   "execution_count": 226,
   "metadata": {},
   "outputs": [
    {
     "name": "stderr",
     "output_type": "stream",
     "text": [
      "/Users/edwin.jimenez/miniconda2/envs/jupyter-lab/lib/python3.7/site-packages/IPython/core/display.py:689: UserWarning: Consider using IPython.display.IFrame instead\n",
      "  warnings.warn(\"Consider using IPython.display.IFrame instead\")\n"
     ]
    },
    {
     "data": {
      "text/html": [
       "<iframe width=\"560\" height=\"315\" src=\"https://www.youtube.com/embed/s7wmiS2mSXY\" frameborder=\"0\" allowfullscreen></iframe>"
      ],
      "text/plain": [
       "<IPython.core.display.HTML object>"
      ]
     },
     "execution_count": 226,
     "metadata": {},
     "output_type": "execute_result"
    }
   ],
   "source": [
    "from IPython.display import HTML\n",
    "\n",
    "HTML('<iframe width=\"560\" height=\"315\" src=\"https://www.youtube.com/embed/s7wmiS2mSXY\" frameborder=\"0\" allowfullscreen></iframe>')"
   ]
  },
  {
   "cell_type": "markdown",
   "metadata": {},
   "source": [
    "`REST` determines how the API looks like. It stands for “Representational State Transfer”. It is a set of rules that developers follow when they create their API. One of these rules states that you should be able to get a piece of data (called a resource) when you link to a specific URL.\n",
    "\n",
    "Each URL is called a **request** while the data sent back to you is called a **response**."
   ]
  },
  {
   "cell_type": "markdown",
   "metadata": {},
   "source": [
    "<img src=\"img/whiteimage.png\" style=\"width:650px\">"
   ]
  },
  {
   "cell_type": "markdown",
   "metadata": {},
   "source": [
    "### Request\n",
    "\n",
    "#### The endpoint\n",
    "\n",
    "The URL is nothing more than the way to make the request. Let's talk now about what the structure is:\n",
    "\n",
    "* Base URL\n",
    "\n",
    "This is the beginning of the request URL. Here, you basically inform the domain that repeats itself in any request. For example:\n",
    "https://jsonplaceholder.typicode.com\n",
    "\n",
    "* Resource or Path\n",
    "\n",
    "The resource is the type of information you are looking for. Let's simulate that we are looking to know about posts, so we add the posts resource:\n",
    "https://jsonplaceholder.typicode.com/posts\n",
    "\n",
    "* Query String\n",
    "\n",
    "The query string contains the parameters of that request. So, if I wanted to know the posts from the user with id 1, I would include these parameters ?userId=1 and our URL would look like this:\n",
    "https://jsonplaceholder.typicode.com/posts?userId=1\n",
    "\n",
    "As you can see above, because these are URL parameters, you use (?) and if you want to use more than one parameter you use (&).\n",
    "https://jsonplaceholder.typicode.com/posts?userId=1&id=2\n",
    "\n",
    "Note: The Query String is not only used for filters. It can be used as paging parameters, versioning, sorting, and more."
   ]
  },
  {
   "cell_type": "markdown",
   "metadata": {},
   "source": [
    "<img src=\"img/whiteimage.png\" style=\"width:650px\">"
   ]
  },
  {
   "cell_type": "markdown",
   "metadata": {},
   "source": [
    "### Response\n",
    "\n",
    "#### Code\n",
    "**200** OK. \n",
    "\n",
    "**301** Moved Permanently.\n",
    "\n",
    "**400** Bad Request.\n",
    "\n",
    "**401** Unauthorized Error.\n",
    "\n",
    "**403** Forbidden.\n",
    "\n",
    "**404** Not Found.\n",
    "\n",
    "**503** Service Unavailable."
   ]
  },
  {
   "cell_type": "code",
   "execution_count": 227,
   "metadata": {},
   "outputs": [
    {
     "name": "stdout",
     "output_type": "stream",
     "text": [
      "404\n"
     ]
    }
   ],
   "source": [
    "import requests #https://requests.readthedocs.io/en/master/\n",
    "response = requests.get(\"http://api.open-notify.org/this-api-doesnt-exist\")\n",
    "print(response.status_code)"
   ]
  },
  {
   "cell_type": "code",
   "execution_count": 228,
   "metadata": {},
   "outputs": [
    {
     "name": "stdout",
     "output_type": "stream",
     "text": [
      "200\n"
     ]
    }
   ],
   "source": [
    "response = requests.get(\"https://jsonplaceholder.typicode.com/posts?userId=1\")\n",
    "print(response.status_code)"
   ]
  },
  {
   "cell_type": "markdown",
   "metadata": {},
   "source": [
    "<img src=\"img/whiteimage.png\" style=\"width:650px\">"
   ]
  },
  {
   "cell_type": "markdown",
   "metadata": {},
   "source": [
    "#### Method\n",
    "\n",
    "\n",
    "The method helps you to inform the type of action you are taking in that request.\n",
    "\n",
    "Among the main methods, we have:\n",
    "\n",
    "* Get (Search data)\n",
    "* Post (Send data)\n",
    "* Put and Patch (Update Data)\n",
    "* Delete (Delete data)"
   ]
  },
  {
   "cell_type": "markdown",
   "metadata": {},
   "source": [
    "<img src=\"img/whiteimage.png\" style=\"width:650px\">"
   ]
  },
  {
   "cell_type": "markdown",
   "metadata": {},
   "source": [
    "#### Get Data response types\n",
    "\n",
    "##### JSON https://www.json.org/json-en.html\n",
    "\n",
    "JSON (JavaScript Object Notation) is a lightweight data-interchange format. It is easy for humans to read and write. It is easy for machines to parse and generate. \n",
    "\n",
    "JSON is built on two structures:\n",
    "* A collection of name/value pairs. In various languages, this is realized as an object, record, struct, dictionary, hash table, keyed list, or associative array.\n",
    "\n",
    "* An ordered list of values. In most languages, this is realized as an array, vector, list, or sequence.\n",
    "\n",
    "Example:\n",
    "```\n",
    "[\n",
    "  {\n",
    "    \"userId\": 1,\n",
    "    \"id\": 1,\n",
    "    \"title\": \"sunt aut facere repellat provident occaecati excepturi optio reprehenderit\",\n",
    "    \"body\": \"quia et suscipit\\nsuscipit recusandae consequuntur expedita et cum\\nreprehenderit molestiae ut ut quas totam\\nnostrum rerum est autem sunt rem eveniet architecto\"\n",
    "  }\n",
    "]\n",
    "```"
   ]
  },
  {
   "cell_type": "code",
   "execution_count": 24,
   "metadata": {},
   "outputs": [
    {
     "name": "stdout",
     "output_type": "stream",
     "text": [
      "b'[\\n  {\\n    \"userId\": 1,\\n    \"id\": 1,\\n    \"title\": \"sunt aut facere repellat provident occaecati excepturi optio reprehenderit\",\\n    \"body\": \"quia et suscipit\\\\nsuscipit recusandae consequuntur expedita et cum\\\\nreprehenderit molestiae ut ut quas totam\\\\nnostrum rerum est autem sunt rem eveniet architecto\"\\n  },\\n  {\\n    \"userId\": 1,\\n    \"id\": 2,\\n    \"title\": \"qui est esse\",\\n    \"body\": \"est rerum tempore vitae\\\\nsequi sint nihil reprehenderit dolor beatae ea dolores neque\\\\nfugiat blanditiis voluptate porro vel nihil molestiae ut reiciendis\\\\nqui aperiam non debitis possimus qui neque nisi nulla\"\\n  },\\n  {\\n    \"userId\": 1,\\n    \"id\": 3,\\n    \"title\": \"ea molestias quasi exercitationem repellat qui ipsa sit aut\",\\n    \"body\": \"et iusto sed quo iure\\\\nvoluptatem occaecati omnis eligendi aut ad\\\\nvoluptatem doloribus vel accusantium quis pariatur\\\\nmolestiae porro eius odio et labore et velit aut\"\\n  },\\n  {\\n    \"userId\": 1,\\n    \"id\": 4,\\n    \"title\": \"eum et est occaecati\",\\n    \"body\": \"ullam et saepe reiciendis voluptatem adipisci\\\\nsit amet autem assumenda provident rerum culpa\\\\nquis hic commodi nesciunt rem tenetur doloremque ipsam iure\\\\nquis sunt voluptatem rerum illo velit\"\\n  },\\n  {\\n    \"userId\": 1,\\n    \"id\": 5,\\n    \"title\": \"nesciunt quas odio\",\\n    \"body\": \"repudiandae veniam quaerat sunt sed\\\\nalias aut fugiat sit autem sed est\\\\nvoluptatem omnis possimus esse voluptatibus quis\\\\nest aut tenetur dolor neque\"\\n  },\\n  {\\n    \"userId\": 1,\\n    \"id\": 6,\\n    \"title\": \"dolorem eum magni eos aperiam quia\",\\n    \"body\": \"ut aspernatur corporis harum nihil quis provident sequi\\\\nmollitia nobis aliquid molestiae\\\\nperspiciatis et ea nemo ab reprehenderit accusantium quas\\\\nvoluptate dolores velit et doloremque molestiae\"\\n  },\\n  {\\n    \"userId\": 1,\\n    \"id\": 7,\\n    \"title\": \"magnam facilis autem\",\\n    \"body\": \"dolore placeat quibusdam ea quo vitae\\\\nmagni quis enim qui quis quo nemo aut saepe\\\\nquidem repellat excepturi ut quia\\\\nsunt ut sequi eos ea sed quas\"\\n  },\\n  {\\n    \"userId\": 1,\\n    \"id\": 8,\\n    \"title\": \"dolorem dolore est ipsam\",\\n    \"body\": \"dignissimos aperiam dolorem qui eum\\\\nfacilis quibusdam animi sint suscipit qui sint possimus cum\\\\nquaerat magni maiores excepturi\\\\nipsam ut commodi dolor voluptatum modi aut vitae\"\\n  },\\n  {\\n    \"userId\": 1,\\n    \"id\": 9,\\n    \"title\": \"nesciunt iure omnis dolorem tempora et accusantium\",\\n    \"body\": \"consectetur animi nesciunt iure dolore\\\\nenim quia ad\\\\nveniam autem ut quam aut nobis\\\\net est aut quod aut provident voluptas autem voluptas\"\\n  },\\n  {\\n    \"userId\": 1,\\n    \"id\": 10,\\n    \"title\": \"optio molestias id quia eum\",\\n    \"body\": \"quo et expedita modi cum officia vel magni\\\\ndoloribus qui repudiandae\\\\nvero nisi sit\\\\nquos veniam quod sed accusamus veritatis error\"\\n  }\\n]'\n"
     ]
    }
   ],
   "source": [
    "response = requests.get(\"https://jsonplaceholder.typicode.com/posts?userId=1\")\n",
    "\n",
    "print(response.content)"
   ]
  },
  {
   "cell_type": "code",
   "execution_count": 23,
   "metadata": {},
   "outputs": [
    {
     "name": "stdout",
     "output_type": "stream",
     "text": [
      "[\n",
      "  {\n",
      "    \"userId\": 1,\n",
      "    \"id\": 1,\n",
      "    \"title\": \"sunt aut facere repellat provident occaecati excepturi optio reprehenderit\",\n",
      "    \"body\": \"quia et suscipit\\nsuscipit recusandae consequuntur expedita et cum\\nreprehenderit molestiae ut ut quas totam\\nnostrum rerum est autem sunt rem eveniet architecto\"\n",
      "  },\n",
      "  {\n",
      "    \"userId\": 1,\n",
      "    \"id\": 2,\n",
      "    \"title\": \"qui est esse\",\n",
      "    \"body\": \"est rerum tempore vitae\\nsequi sint nihil reprehenderit dolor beatae ea dolores neque\\nfugiat blanditiis voluptate porro vel nihil molestiae ut reiciendis\\nqui aperiam non debitis possimus qui neque nisi nulla\"\n",
      "  },\n",
      "  {\n",
      "    \"userId\": 1,\n",
      "    \"id\": 3,\n",
      "    \"title\": \"ea molestias quasi exercitationem repellat qui ipsa sit aut\",\n",
      "    \"body\": \"et iusto sed quo iure\\nvoluptatem occaecati omnis eligendi aut ad\\nvoluptatem doloribus vel accusantium quis pariatur\\nmolestiae porro eius odio et labore et velit aut\"\n",
      "  },\n",
      "  {\n",
      "    \"userId\": 1,\n",
      "    \"id\": 4,\n",
      "    \"title\": \"eum et est occaecati\",\n",
      "    \"body\": \"ullam et saepe reiciendis voluptatem adipisci\\nsit amet autem assumenda provident rerum culpa\\nquis hic commodi nesciunt rem tenetur doloremque ipsam iure\\nquis sunt voluptatem rerum illo velit\"\n",
      "  },\n",
      "  {\n",
      "    \"userId\": 1,\n",
      "    \"id\": 5,\n",
      "    \"title\": \"nesciunt quas odio\",\n",
      "    \"body\": \"repudiandae veniam quaerat sunt sed\\nalias aut fugiat sit autem sed est\\nvoluptatem omnis possimus esse voluptatibus quis\\nest aut tenetur dolor neque\"\n",
      "  },\n",
      "  {\n",
      "    \"userId\": 1,\n",
      "    \"id\": 6,\n",
      "    \"title\": \"dolorem eum magni eos aperiam quia\",\n",
      "    \"body\": \"ut aspernatur corporis harum nihil quis provident sequi\\nmollitia nobis aliquid molestiae\\nperspiciatis et ea nemo ab reprehenderit accusantium quas\\nvoluptate dolores velit et doloremque molestiae\"\n",
      "  },\n",
      "  {\n",
      "    \"userId\": 1,\n",
      "    \"id\": 7,\n",
      "    \"title\": \"magnam facilis autem\",\n",
      "    \"body\": \"dolore placeat quibusdam ea quo vitae\\nmagni quis enim qui quis quo nemo aut saepe\\nquidem repellat excepturi ut quia\\nsunt ut sequi eos ea sed quas\"\n",
      "  },\n",
      "  {\n",
      "    \"userId\": 1,\n",
      "    \"id\": 8,\n",
      "    \"title\": \"dolorem dolore est ipsam\",\n",
      "    \"body\": \"dignissimos aperiam dolorem qui eum\\nfacilis quibusdam animi sint suscipit qui sint possimus cum\\nquaerat magni maiores excepturi\\nipsam ut commodi dolor voluptatum modi aut vitae\"\n",
      "  },\n",
      "  {\n",
      "    \"userId\": 1,\n",
      "    \"id\": 9,\n",
      "    \"title\": \"nesciunt iure omnis dolorem tempora et accusantium\",\n",
      "    \"body\": \"consectetur animi nesciunt iure dolore\\nenim quia ad\\nveniam autem ut quam aut nobis\\net est aut quod aut provident voluptas autem voluptas\"\n",
      "  },\n",
      "  {\n",
      "    \"userId\": 1,\n",
      "    \"id\": 10,\n",
      "    \"title\": \"optio molestias id quia eum\",\n",
      "    \"body\": \"quo et expedita modi cum officia vel magni\\ndoloribus qui repudiandae\\nvero nisi sit\\nquos veniam quod sed accusamus veritatis error\"\n",
      "  }\n",
      "]\n"
     ]
    }
   ],
   "source": [
    "print(response.text)"
   ]
  },
  {
   "cell_type": "code",
   "execution_count": 22,
   "metadata": {},
   "outputs": [
    {
     "name": "stdout",
     "output_type": "stream",
     "text": [
      "[{'userId': 1, 'id': 1, 'title': 'sunt aut facere repellat provident occaecati excepturi optio reprehenderit', 'body': 'quia et suscipit\\nsuscipit recusandae consequuntur expedita et cum\\nreprehenderit molestiae ut ut quas totam\\nnostrum rerum est autem sunt rem eveniet architecto'}, {'userId': 1, 'id': 2, 'title': 'qui est esse', 'body': 'est rerum tempore vitae\\nsequi sint nihil reprehenderit dolor beatae ea dolores neque\\nfugiat blanditiis voluptate porro vel nihil molestiae ut reiciendis\\nqui aperiam non debitis possimus qui neque nisi nulla'}, {'userId': 1, 'id': 3, 'title': 'ea molestias quasi exercitationem repellat qui ipsa sit aut', 'body': 'et iusto sed quo iure\\nvoluptatem occaecati omnis eligendi aut ad\\nvoluptatem doloribus vel accusantium quis pariatur\\nmolestiae porro eius odio et labore et velit aut'}, {'userId': 1, 'id': 4, 'title': 'eum et est occaecati', 'body': 'ullam et saepe reiciendis voluptatem adipisci\\nsit amet autem assumenda provident rerum culpa\\nquis hic commodi nesciunt rem tenetur doloremque ipsam iure\\nquis sunt voluptatem rerum illo velit'}, {'userId': 1, 'id': 5, 'title': 'nesciunt quas odio', 'body': 'repudiandae veniam quaerat sunt sed\\nalias aut fugiat sit autem sed est\\nvoluptatem omnis possimus esse voluptatibus quis\\nest aut tenetur dolor neque'}, {'userId': 1, 'id': 6, 'title': 'dolorem eum magni eos aperiam quia', 'body': 'ut aspernatur corporis harum nihil quis provident sequi\\nmollitia nobis aliquid molestiae\\nperspiciatis et ea nemo ab reprehenderit accusantium quas\\nvoluptate dolores velit et doloremque molestiae'}, {'userId': 1, 'id': 7, 'title': 'magnam facilis autem', 'body': 'dolore placeat quibusdam ea quo vitae\\nmagni quis enim qui quis quo nemo aut saepe\\nquidem repellat excepturi ut quia\\nsunt ut sequi eos ea sed quas'}, {'userId': 1, 'id': 8, 'title': 'dolorem dolore est ipsam', 'body': 'dignissimos aperiam dolorem qui eum\\nfacilis quibusdam animi sint suscipit qui sint possimus cum\\nquaerat magni maiores excepturi\\nipsam ut commodi dolor voluptatum modi aut vitae'}, {'userId': 1, 'id': 9, 'title': 'nesciunt iure omnis dolorem tempora et accusantium', 'body': 'consectetur animi nesciunt iure dolore\\nenim quia ad\\nveniam autem ut quam aut nobis\\net est aut quod aut provident voluptas autem voluptas'}, {'userId': 1, 'id': 10, 'title': 'optio molestias id quia eum', 'body': 'quo et expedita modi cum officia vel magni\\ndoloribus qui repudiandae\\nvero nisi sit\\nquos veniam quod sed accusamus veritatis error'}]\n"
     ]
    }
   ],
   "source": [
    "print(response.json())"
   ]
  },
  {
   "cell_type": "code",
   "execution_count": 25,
   "metadata": {},
   "outputs": [
    {
     "name": "stdout",
     "output_type": "stream",
     "text": [
      "<class 'bytes'>\n",
      "<class 'list'>\n",
      "<class 'str'>\n"
     ]
    }
   ],
   "source": [
    "print(type(response.content))\n",
    "print(type(response.json()))\n",
    "print(type(response.text))"
   ]
  },
  {
   "cell_type": "code",
   "execution_count": 38,
   "metadata": {},
   "outputs": [
    {
     "name": "stdout",
     "output_type": "stream",
     "text": [
      "{'userId': 1, 'id': 1, 'title': 'sunt aut facere repellat provident occaecati excepturi optio reprehenderit', 'body': 'quia et suscipit\\nsuscipit recusandae consequuntur expedita et cum\\nreprehenderit molestiae ut ut quas totam\\nnostrum rerum est autem sunt rem eveniet architecto'} \n",
      "\n",
      "sunt aut facere repellat provident occaecati excepturi optio reprehenderit \n",
      "\n",
      "sunt aut facere repellat provident occaecati excepturi optio reprehenderit\n",
      "qui est esse\n",
      "ea molestias quasi exercitationem repellat qui ipsa sit aut\n",
      "eum et est occaecati\n",
      "nesciunt quas odio\n",
      "dolorem eum magni eos aperiam quia\n",
      "magnam facilis autem\n",
      "dolorem dolore est ipsam\n",
      "nesciunt iure omnis dolorem tempora et accusantium\n",
      "optio molestias id quia eum\n"
     ]
    }
   ],
   "source": [
    "print(response.json()[0], '\\n')\n",
    "print(response.json()[0]['title'], '\\n')\n",
    "\n",
    "for elem in response.json():\n",
    "    print(elem['title'])"
   ]
  },
  {
   "cell_type": "markdown",
   "metadata": {},
   "source": [
    "<img src=\"img/whiteimage.png\" style=\"width:650px\">"
   ]
  },
  {
   "cell_type": "markdown",
   "metadata": {},
   "source": [
    "##### XML   \n",
    "\n",
    "XML stands for \"Extensible Markup Language\". It is mainly used in webpages, where the data has a specific structure and is understood dynamically by the XML framework.\n",
    "\n",
    "XML creates a tree-like structure that is easy to interpret and supports a hierarchy. Whenever a page follows XML, it can be called an XML document.\n",
    "\n",
    "* XML documents have sections, called elements, defined by a beginning and an ending tag. A tag is a markup construct that begins with < and ends with >. The characters between the start-tag and end-tag, if there are any, are the element's content. Elements can contain markup, including other elements, which are called \"child elements\".\n",
    "\n",
    "\n",
    "* The largest, top-level element is called the root, which contains all other elements.\n",
    "\n",
    "\n",
    "* Attributes are name–value pair that exist within a start-tag or empty-element tag. An XML attribute can only have a single value and each attribute can appear at most once on each element.\n"
   ]
  },
  {
   "cell_type": "markdown",
   "metadata": {},
   "source": [
    "<img src=\"img/whiteimage.png\" style=\"width:650px\">"
   ]
  },
  {
   "cell_type": "markdown",
   "metadata": {},
   "source": [
    "###### Elements\n",
    "\n",
    "**Tag**\tIt is a string representing the type of data being stored\n",
    "\n",
    "**Attributes**\tConsists of a number of attributes stored as dictionaries\n",
    "\n",
    "**Text String**\tA text string having information that needs to be displayed\n",
    "\n",
    "**Child Elements**\tConsists of a number of  child elements stored as sequences\n",
    "\n",
    "Below you can see an example:"
   ]
  },
  {
   "cell_type": "markdown",
   "metadata": {},
   "source": [
    "~~~~\n",
    "<?xml version=\"1.0\" encoding=\"UTF-8\"?>\n",
    "<metadata>\n",
    "<food>\n",
    "    <item name=\"breakfast\">Idly</item>\n",
    "    <price>$2.5</price>\n",
    "    <description>\n",
    "   Two idly's with chutney\n",
    "   </description>\n",
    "    <calories>553</calories>\n",
    "</food>\n",
    "<food>\n",
    "    <item name=\"breakfast\">Paper Dosa</item>\n",
    "    <price>$2.7</price>\n",
    "    <description>\n",
    "    Plain paper dosa with chutney\n",
    "    </description>\n",
    "    <calories>700</calories>\n",
    "</food>\n",
    "<food>\n",
    "    <item name=\"breakfast\">Upma</item>\n",
    "    <price>$3.65</price>\n",
    "    <description>\n",
    "    Rava upma with bajji\n",
    "    </description>\n",
    "    <calories>600</calories>\n",
    "</food>\n",
    "<food>\n",
    "    <item name=\"breakfast\">Bisi Bele Bath</item>\n",
    "    <price>$4.50</price>\n",
    "    <description>\n",
    "   Bisi Bele Bath with sev\n",
    "    </description>\n",
    "    <calories>400</calories>\n",
    "</food>\n",
    "<food>\n",
    "    <item name=\"breakfast\">Kesari Bath</item>\n",
    "    <price>$1.95</price>\n",
    "    <description>\n",
    "    Sweet rava with saffron\n",
    "    </description>\n",
    "    <calories>950</calories>\n",
    "</food>\n",
    "</metadata>\n",
    "~~~~"
   ]
  },
  {
   "cell_type": "code",
   "execution_count": 229,
   "metadata": {},
   "outputs": [
    {
     "name": "stdout",
     "output_type": "stream",
     "text": [
      "b'<?xml version=\"1.0\" encoding=\"UTF-8\"?>\\n<metadata>\\n<food>\\n    <item name=\"breakfast\">Idly</item>\\n    <price>$2.5</price>\\n    <description>\\n   Two idly\\'s with chutney\\n   </description>\\n    <calories>553</calories>\\n</food>\\n<food>\\n    <item name=\"breakfast\">Paper Dosa</item>\\n    <price>$2.7</price>\\n    <description>\\n    Plain paper dosa with chutney\\n    </description>\\n    <calories>700</calories>\\n</food>\\n<food>\\n    <item name=\"breakfast\">Upma</item>\\n    <price>$3.65</price>\\n    <description>\\n    Rava upma with bajji\\n    </description>\\n    <calories>600</calories>\\n</food>\\n<food>\\n    <item name=\"breakfast\">Bisi Bele Bath</item>\\n    <price>$4.50</price>\\n    <description>\\n   Bisi Bele Bath with sev\\n    </description>\\n    <calories>400</calories>\\n</food>\\n<food>\\n    <item name=\"breakfast\">Kesari Bath</item>\\n    <price>$1.95</price>\\n    <description>\\n    Sweet rava with saffron\\n    </description>\\n    <calories>950</calories>\\n</food>\\n</metadata>'\n"
     ]
    }
   ],
   "source": [
    "r = requests.get('http://www.mocky.io/v2/5e7a343330000066749308b2') \n",
    "#https://www.mocky.io/\n",
    "#https://www.edureka.co/blog/python-xml-parser-tutorial/\n",
    "print(r.content)"
   ]
  },
  {
   "cell_type": "code",
   "execution_count": 230,
   "metadata": {},
   "outputs": [
    {
     "name": "stdout",
     "output_type": "stream",
     "text": [
      "<Element 'metadata' at 0x114a85a98>\n",
      "metadata\n",
      "{}\n"
     ]
    }
   ],
   "source": [
    "import xml.etree.ElementTree as ET\n",
    "root = ET.fromstring(r.content) #https://docs.python.org/3/library/xml.etree.elementtree.html\n",
    "print(root)\n",
    "print(root.tag)\n",
    "print(root.attrib)"
   ]
  },
  {
   "cell_type": "code",
   "execution_count": 231,
   "metadata": {},
   "outputs": [
    {
     "name": "stdout",
     "output_type": "stream",
     "text": [
      "food\n"
     ]
    }
   ],
   "source": [
    "#print first element tag\n",
    "print(root[0].tag)"
   ]
  },
  {
   "cell_type": "code",
   "execution_count": 232,
   "metadata": {},
   "outputs": [
    {
     "name": "stdout",
     "output_type": "stream",
     "text": [
      "food\n",
      "food\n",
      "food\n",
      "food\n",
      "food\n"
     ]
    }
   ],
   "source": [
    "#print elements tag\n",
    "for child in root:\n",
    "    print(child.tag)"
   ]
  },
  {
   "cell_type": "code",
   "execution_count": 233,
   "metadata": {},
   "outputs": [
    {
     "name": "stdout",
     "output_type": "stream",
     "text": [
      "tag:  item attrib:  {'name': 'breakfast'} text:  Idly\n",
      "tag:  price attrib:  {} text:  $2.5\n",
      "tag:  description attrib:  {} text:  \n",
      "   Two idly's with chutney\n",
      "   \n",
      "tag:  calories attrib:  {} text:  553\n"
     ]
    }
   ],
   "source": [
    "#get elements information\n",
    "for x in root[0]:\n",
    "     print('tag: ', x.tag, 'attrib: ', x.attrib, 'text: ', x.text)"
   ]
  },
  {
   "cell_type": "code",
   "execution_count": 234,
   "metadata": {},
   "outputs": [
    {
     "name": "stdout",
     "output_type": "stream",
     "text": [
      "item Idly\n",
      "price $2.5\n",
      "description \n",
      "   Two idly's with chutney\n",
      "   \n",
      "calories 553\n",
      "\n",
      "item Paper Dosa\n",
      "price $2.7\n",
      "description \n",
      "    Plain paper dosa with chutney\n",
      "    \n",
      "calories 700\n",
      "\n",
      "item Upma\n",
      "price $3.65\n",
      "description \n",
      "    Rava upma with bajji\n",
      "    \n",
      "calories 600\n",
      "\n",
      "item Bisi Bele Bath\n",
      "price $4.50\n",
      "description \n",
      "   Bisi Bele Bath with sev\n",
      "    \n",
      "calories 400\n",
      "\n",
      "item Kesari Bath\n",
      "price $1.95\n",
      "description \n",
      "    Sweet rava with saffron\n",
      "    \n",
      "calories 950\n",
      "\n"
     ]
    }
   ],
   "source": [
    "for child in root:\n",
    "    for elem in child:\n",
    "        print(elem.tag, elem.text)\n",
    "    print()"
   ]
  },
  {
   "cell_type": "code",
   "execution_count": 235,
   "metadata": {},
   "outputs": [
    {
     "name": "stdout",
     "output_type": "stream",
     "text": [
      "Idly $2.5\n",
      "Paper Dosa $2.7\n",
      "Upma $3.65\n",
      "Bisi Bele Bath $4.50\n",
      "Kesari Bath $1.95\n"
     ]
    }
   ],
   "source": [
    "for x in root.findall('food'):\n",
    "    item =x.find('item').text\n",
    "    price = x.find('price').text\n",
    "    print(item, price)"
   ]
  },
  {
   "cell_type": "code",
   "execution_count": 236,
   "metadata": {},
   "outputs": [
    {
     "name": "stdout",
     "output_type": "stream",
     "text": [
      "Idly\n",
      "Paper Dosa\n",
      "Upma\n",
      "Bisi Bele Bath\n",
      "Kesari Bath\n"
     ]
    }
   ],
   "source": [
    "for x in root.findall('food'):\n",
    "    for item in x.findall('item'):\n",
    "        print (item.text)"
   ]
  },
  {
   "cell_type": "markdown",
   "metadata": {},
   "source": [
    "<img src=\"img/whiteimage.png\" style=\"width:650px\">"
   ]
  },
  {
   "cell_type": "markdown",
   "metadata": {},
   "source": [
    "So we can GET data in JSON or XML format, but we can also\n",
    "* Post (Send data)\n",
    "* Put and Patch (Update Data)\n",
    "* Delete (Delete data)\n",
    "\n",
    "\n",
    "\n",
    "##### Post"
   ]
  },
  {
   "cell_type": "code",
   "execution_count": 127,
   "metadata": {},
   "outputs": [
    {
     "name": "stdout",
     "output_type": "stream",
     "text": [
      "201 {'title': 'foo', 'body': 'bar', 'userId': '1', 'id': 101}\n"
     ]
    }
   ],
   "source": [
    "url = 'https://jsonplaceholder.typicode.com/posts'\n",
    "myobj = {'title': 'foo', 'body': 'bar', 'userId': 1}\n",
    "\n",
    "r = requests.post(url, data = myobj)\n",
    "\n",
    "print(r.status_code, r.json()) #or x.text"
   ]
  },
  {
   "cell_type": "markdown",
   "metadata": {},
   "source": [
    "##### Put"
   ]
  },
  {
   "cell_type": "code",
   "execution_count": 135,
   "metadata": {},
   "outputs": [
    {
     "name": "stdout",
     "output_type": "stream",
     "text": [
      "200 {'title': 'foo', 'body': 'bar', 'userId': '1', 'id': 1}\n"
     ]
    }
   ],
   "source": [
    "r = requests.put('https://jsonplaceholder.typicode.com/posts/1', data = {'title': 'foo','body': 'bar','userId': 1})\n",
    "\n",
    "print(r.status_code, r.json()) #or x.text"
   ]
  },
  {
   "cell_type": "markdown",
   "metadata": {},
   "source": [
    "##### Delete"
   ]
  },
  {
   "cell_type": "code",
   "execution_count": 137,
   "metadata": {},
   "outputs": [
    {
     "name": "stdout",
     "output_type": "stream",
     "text": [
      "200 {}\n"
     ]
    }
   ],
   "source": [
    "r = requests.delete('https://jsonplaceholder.typicode.com/posts/1')\n",
    "\n",
    "print(r.status_code, r.json())"
   ]
  },
  {
   "cell_type": "markdown",
   "metadata": {},
   "source": [
    "<img src=\"img/whiteimage.png\" style=\"width:650px\">"
   ]
  },
  {
   "cell_type": "markdown",
   "metadata": {},
   "source": [
    "___\n",
    "\n",
    "### How can I provide my own data as a REST API?\n",
    "\n",
    "You can use flask to create an API and expose the endpoints (for reference https://programminghistorian.org/en/lessons/creating-apis-with-python-and-flask)\n",
    "\n",
    "You can find the next code in the python file server_example.py\n",
    "```\n",
    "import flask\n",
    "from flask import request, jsonify\n",
    "\n",
    "app = flask.Flask(__name__)\n",
    "app.config[\"DEBUG\"] = True\n",
    "\n",
    "# Create some test data for our catalog in the form of a list of dictionaries.\n",
    "books = [\n",
    "    {'id': 0,\n",
    "     'title': 'A Fire Upon the Deep',\n",
    "     'author': 'Vernor Vinge',\n",
    "     'first_sentence': 'The coldsleep itself was dreamless.',\n",
    "     'year_published': '1992'},\n",
    "    {'id': 1,\n",
    "     'title': 'The Ones Who Walk Away From Omelas',\n",
    "     'author': 'Ursula K. Le Guin',\n",
    "     'first_sentence': 'With a clamor of bells that set the swallows soaring, the Festival of Summer came to the city Omelas, bright-towered by the sea.',\n",
    "     'published': '1973'},\n",
    "    {'id': 2,\n",
    "     'title': 'Dhalgren',\n",
    "     'author': 'Samuel R. Delany',\n",
    "     'first_sentence': 'to wound the autumnal city.',\n",
    "     'published': '1975'}\n",
    "]\n",
    "\n",
    "\n",
    "@app.route('/')\n",
    "def hello_world():\n",
    "    return jsonify([{'Hello': 'World!'}])\n",
    "\n",
    "\n",
    "# A route to return all of the available entries in our catalog.\n",
    "@app.route('/api/v1/resources/books/all', methods=['GET'])\n",
    "def api_all():\n",
    "    return jsonify(books)\n",
    "\n",
    "app.run()\n",
    "\n",
    "```\n",
    "\n",
    "Then run `python myfile.py`"
   ]
  },
  {
   "cell_type": "code",
   "execution_count": 113,
   "metadata": {},
   "outputs": [
    {
     "name": "stdout",
     "output_type": "stream",
     "text": [
      "200\n",
      "[{'Hello': 'World!'}]\n"
     ]
    }
   ],
   "source": [
    "r = requests.get('http://127.0.0.1:5000')\n",
    "print(r.status_code)\n",
    "print(r.json())"
   ]
  },
  {
   "cell_type": "code",
   "execution_count": 114,
   "metadata": {},
   "outputs": [
    {
     "name": "stdout",
     "output_type": "stream",
     "text": [
      "200\n",
      "[{'author': 'Vernor Vinge', 'first_sentence': 'The coldsleep itself was dreamless.', 'id': 0, 'title': 'A Fire Upon the Deep', 'year_published': '1992'}, {'author': 'Ursula K. Le Guin', 'first_sentence': 'With a clamor of bells that set the swallows soaring, the Festival of Summer came to the city Omelas, bright-towered by the sea.', 'id': 1, 'published': '1973', 'title': 'The Ones Who Walk Away From Omelas'}, {'author': 'Samuel R. Delany', 'first_sentence': 'to wound the autumnal city.', 'id': 2, 'published': '1975', 'title': 'Dhalgren'}]\n"
     ]
    }
   ],
   "source": [
    "r = requests.get('http://127.0.0.1:5000/api/v1/resources/books/all')\n",
    "print(r.status_code)\n",
    "print(r.json())"
   ]
  },
  {
   "cell_type": "markdown",
   "metadata": {},
   "source": [
    "#### References \n",
    "\n",
    "https://towardsdatascience.com/twitter-data-collection-tutorial-using-python-3267d7cfa93e (highly recommended)\n",
    "\n",
    "https://www.datacamp.com/community/tutorials/python-xml-elementtree\n",
    "\n",
    "https://sdbrett.com/BrettsITBlog/2017/03/python-parsing-api-xml-response-data/"
   ]
  },
  {
   "cell_type": "markdown",
   "metadata": {},
   "source": [
    "<img src=\"img/whiteimage.png\" style=\"width:650px\">"
   ]
  },
  {
   "cell_type": "markdown",
   "metadata": {},
   "source": [
    "___\n",
    "## Web Scraping\n",
    "\n",
    "What can I do if the data I need is not available trough APIs?"
   ]
  },
  {
   "cell_type": "markdown",
   "metadata": {},
   "source": [
    "Install conda using:\n",
    "`pip3 install selenium`\n",
    "or\n",
    "`conda install -c conda-forge selenium`\n",
    "\n",
    "Download the driver for your Chrome version https://chromedriver.chromium.org/downloads"
   ]
  },
  {
   "cell_type": "code",
   "execution_count": 155,
   "metadata": {},
   "outputs": [],
   "source": [
    "from selenium import webdriver"
   ]
  },
  {
   "cell_type": "code",
   "execution_count": 156,
   "metadata": {},
   "outputs": [],
   "source": [
    "wd = webdriver.Chrome(executable_path=r\"/Users/edwin.jimenez/Saturdays AI/chromedriver\")"
   ]
  },
  {
   "cell_type": "code",
   "execution_count": 157,
   "metadata": {},
   "outputs": [],
   "source": [
    "wd.get('https://dev.to/lewiskori/beginner-s-guide-to-web-scraping-with-python-s-selenium-3fl9') "
   ]
  },
  {
   "cell_type": "markdown",
   "metadata": {},
   "source": [
    "<img src=\"img/whiteimage.png\" style=\"width:650px\">"
   ]
  },
  {
   "cell_type": "markdown",
   "metadata": {},
   "source": [
    "Before we go further we need to know Xpath\n",
    "\n",
    "### What is XPath? [reference](https://www.guru99.com/xpath-selenium.html)\n",
    "\n",
    "XPath is defined as XML path. It is a syntax or language for finding any element on the web page using XML path expression. XPath is used to find the location of any element on a webpage using HTML DOM (The Document Object Model is a cross-platform and language-independent interface that treats an XML or HTML document as a tree structure wherein each node is an object representing a part of the document. [reference](https://en.wikipedia.org/wiki/Document_Object_Model)) structure. The basic format of XPath is explained below with screenshot. \n",
    "<img src=\"https://www.guru99.com/images/3-2016/032816_0758_XPathinSele1.png\" style=\"width:600px\">\n",
    "\n",
    "#### Syntax for XPath:\n",
    "\n",
    "XPath contains the path of the element situated at the web page. Standard syntax for creating XPath is.\n",
    "\n",
    "`Xpath=//tagname[@attribute='value']`\n",
    "\n",
    "- // : Select current node.\n",
    "\n",
    "- Tagname: Tagname of the particular node.\n",
    "\n",
    "- @: Select attribute.\n",
    "\n",
    "- Attribute: Attribute name of the node.\n",
    "\n",
    "- Value: Value of the attribute. "
   ]
  },
  {
   "cell_type": "markdown",
   "metadata": {},
   "source": [
    "To find the element on web pages accurately there are different types of locators:\n",
    "\n",
    "| Xpath Locators \t| Find different elements on web page                                                                  \t|\n",
    "|--------------\t|------------------------------------------------------------------------------------------------------\t|\n",
    "| ID             \t| To find the element by ID of the element                                                             \t|\n",
    "| Classname      \t| To find the element by Classname of the element                                                      \t|\n",
    "| Link text      \t| To find the element by text of the link                                                              \t|\n",
    "| XPath          \t| XPath required for finding the dynamic element and traverse between various elements of the web page \t|"
   ]
  },
  {
   "cell_type": "markdown",
   "metadata": {},
   "source": [
    "<img src=\"img/whiteimage.png\" style=\"width:650px\">"
   ]
  },
  {
   "cell_type": "markdown",
   "metadata": {},
   "source": [
    "#### Types of Xpath\n",
    "\n",
    "* Absolute XPath\n",
    "\n",
    "It is the direct way to find the element, but the disadvantage of the absolute XPath is that if there are any changes made in the path of the element then that XPath gets failed.\n",
    "\n",
    "The key characteristic of XPath is that it begins with the single forward slash(/), which means you can select the element from the root node.\n",
    "\n",
    "For example:\n",
    "`/html/body/div[2]/section[3]/div/div[1]/main/div[1]/div/div/div/div/div/div[2]/p[3]`\n",
    "\n",
    "* Relative Xpath\n",
    "\n",
    "For Relative Xpath the path starts from the middle of the HTML DOM structure. It starts with the double forward slash (//), which means it can search the element anywhere at the webpage.\n",
    "\n",
    "You can start from the middle of the HTML DOM structure and no need to write long xpath.\n",
    "\n",
    "For example, for the same element that the absolute Xpath refers to this is the relative Xpath\n",
    "`//*[@id=\"g-mainbar\"]/div[1]/div/div/div/div/div/div[2]/p[3]`\n",
    "\n",
    "Try it!\n",
    "* Go to your Chrome window. \n",
    "* Do right-click and select `Inspect`, look for an element. \n",
    "* Do right-click and select copy, choose to copy Xpath or full Xpath.\n",
    "\n"
   ]
  },
  {
   "cell_type": "markdown",
   "metadata": {},
   "source": [
    "<img src=\"img/whiteimage.png\" style=\"width:650px\">"
   ]
  },
  {
   "cell_type": "markdown",
   "metadata": {},
   "source": [
    "#### Example"
   ]
  },
  {
   "cell_type": "code",
   "execution_count": 158,
   "metadata": {},
   "outputs": [],
   "source": [
    "wd.get('http://quotes.toscrape.com/page/1/') "
   ]
  },
  {
   "cell_type": "code",
   "execution_count": 162,
   "metadata": {},
   "outputs": [
    {
     "name": "stdout",
     "output_type": "stream",
     "text": [
      "<selenium.webdriver.remote.webelement.WebElement (session=\"080972838bb4b03c932e5b131bef2953\", element=\"249b68d5-0fea-4668-ab0a-42896d1147e6\")>\n",
      "<selenium.webdriver.remote.webelement.WebElement (session=\"080972838bb4b03c932e5b131bef2953\", element=\"7d40f4d7-2e54-4ccb-a179-8942650979cd\")>\n",
      "<selenium.webdriver.remote.webelement.WebElement (session=\"080972838bb4b03c932e5b131bef2953\", element=\"bc4b6693-1d3a-4ed2-ae5e-e43e51c6c40e\")>\n",
      "<selenium.webdriver.remote.webelement.WebElement (session=\"080972838bb4b03c932e5b131bef2953\", element=\"67e7ccf5-344f-48ab-877a-80c400f85cb5\")>\n",
      "<selenium.webdriver.remote.webelement.WebElement (session=\"080972838bb4b03c932e5b131bef2953\", element=\"aaaddcaf-bfe8-420e-8618-0ea987cf88f5\")>\n",
      "<selenium.webdriver.remote.webelement.WebElement (session=\"080972838bb4b03c932e5b131bef2953\", element=\"13fe9eab-e797-407e-b65c-08a44805ba8c\")>\n",
      "<selenium.webdriver.remote.webelement.WebElement (session=\"080972838bb4b03c932e5b131bef2953\", element=\"5bfca53c-22d1-47ee-9fe7-294f6a7dba72\")>\n",
      "<selenium.webdriver.remote.webelement.WebElement (session=\"080972838bb4b03c932e5b131bef2953\", element=\"7b751ab5-341e-4ff7-938f-d4a0060b6bf6\")>\n",
      "<selenium.webdriver.remote.webelement.WebElement (session=\"080972838bb4b03c932e5b131bef2953\", element=\"267d59c9-6220-430b-96fd-b4c63591b25c\")>\n",
      "<selenium.webdriver.remote.webelement.WebElement (session=\"080972838bb4b03c932e5b131bef2953\", element=\"b5db2a04-e8f4-488b-a8d5-8931ae0620bf\")>\n"
     ]
    }
   ],
   "source": [
    "quotes = wd.find_elements_by_class_name(\"quote\")\n",
    "for quote in quotes:\n",
    "    print(quote)"
   ]
  },
  {
   "cell_type": "code",
   "execution_count": 168,
   "metadata": {},
   "outputs": [
    {
     "name": "stdout",
     "output_type": "stream",
     "text": [
      "<selenium.webdriver.remote.webelement.WebElement (session=\"080972838bb4b03c932e5b131bef2953\", element=\"11ab8303-6716-43e4-96d8-01404d3037fe\")> <selenium.webdriver.remote.webelement.WebElement (session=\"080972838bb4b03c932e5b131bef2953\", element=\"2eb7a7fe-7720-4378-97b3-c58c16c1dc97\")> <selenium.webdriver.remote.webelement.WebElement (session=\"080972838bb4b03c932e5b131bef2953\", element=\"6ed7f67d-7fa9-49ff-bd2b-34d113bb212e\")>\n",
      "<selenium.webdriver.remote.webelement.WebElement (session=\"080972838bb4b03c932e5b131bef2953\", element=\"d38b6284-81c9-4372-93d6-c63376f909b2\")> <selenium.webdriver.remote.webelement.WebElement (session=\"080972838bb4b03c932e5b131bef2953\", element=\"b7e9bc74-78c6-4130-9fb9-68d5202b06b3\")> <selenium.webdriver.remote.webelement.WebElement (session=\"080972838bb4b03c932e5b131bef2953\", element=\"03ae84d4-9d89-4ff5-8257-e401b7518adf\")>\n",
      "<selenium.webdriver.remote.webelement.WebElement (session=\"080972838bb4b03c932e5b131bef2953\", element=\"6a50ac69-de8b-4fe4-be22-32a5944f7a1b\")> <selenium.webdriver.remote.webelement.WebElement (session=\"080972838bb4b03c932e5b131bef2953\", element=\"7ec0f2a5-89d9-42b5-9893-424f7a580846\")> <selenium.webdriver.remote.webelement.WebElement (session=\"080972838bb4b03c932e5b131bef2953\", element=\"0f4b8975-97ff-4c24-845f-041a6382cfda\")>\n",
      "<selenium.webdriver.remote.webelement.WebElement (session=\"080972838bb4b03c932e5b131bef2953\", element=\"3a76bb25-a703-49b2-923f-5b4115495950\")> <selenium.webdriver.remote.webelement.WebElement (session=\"080972838bb4b03c932e5b131bef2953\", element=\"d9029a77-e8be-4bc4-bbb2-c5bfccbb510e\")> <selenium.webdriver.remote.webelement.WebElement (session=\"080972838bb4b03c932e5b131bef2953\", element=\"faf95f3e-3504-4c30-a4b3-192e69513e5c\")>\n",
      "<selenium.webdriver.remote.webelement.WebElement (session=\"080972838bb4b03c932e5b131bef2953\", element=\"7ed4ac51-75cd-42dc-ad19-0a580dad683c\")> <selenium.webdriver.remote.webelement.WebElement (session=\"080972838bb4b03c932e5b131bef2953\", element=\"d8a4be00-8f1f-4193-9aa3-caba20e0e674\")> <selenium.webdriver.remote.webelement.WebElement (session=\"080972838bb4b03c932e5b131bef2953\", element=\"06d76a2e-8a02-49c4-899a-6c94ab366be1\")>\n",
      "<selenium.webdriver.remote.webelement.WebElement (session=\"080972838bb4b03c932e5b131bef2953\", element=\"8c0afab0-beb0-484a-ba1e-935ce1c0980c\")> <selenium.webdriver.remote.webelement.WebElement (session=\"080972838bb4b03c932e5b131bef2953\", element=\"bb8859c1-bf00-4cc0-863c-b38434e460d3\")> <selenium.webdriver.remote.webelement.WebElement (session=\"080972838bb4b03c932e5b131bef2953\", element=\"2dce54ac-918e-487a-a6c7-8ee2560a6b8d\")>\n",
      "<selenium.webdriver.remote.webelement.WebElement (session=\"080972838bb4b03c932e5b131bef2953\", element=\"513b87db-e1f8-49aa-9ed4-f93ac322595d\")> <selenium.webdriver.remote.webelement.WebElement (session=\"080972838bb4b03c932e5b131bef2953\", element=\"4134115e-369c-45f2-9517-398ccb31f7a6\")> <selenium.webdriver.remote.webelement.WebElement (session=\"080972838bb4b03c932e5b131bef2953\", element=\"53deb6b2-6974-4425-97ff-171a4d764a3d\")>\n",
      "<selenium.webdriver.remote.webelement.WebElement (session=\"080972838bb4b03c932e5b131bef2953\", element=\"f1d00036-d167-45d7-aa4f-b9b97cff4a5e\")> <selenium.webdriver.remote.webelement.WebElement (session=\"080972838bb4b03c932e5b131bef2953\", element=\"0da5efb2-7e64-4a24-ac39-60b8b056f903\")> <selenium.webdriver.remote.webelement.WebElement (session=\"080972838bb4b03c932e5b131bef2953\", element=\"fab30dd2-c22f-4f0b-b2f2-24ed05b8a21e\")>\n",
      "<selenium.webdriver.remote.webelement.WebElement (session=\"080972838bb4b03c932e5b131bef2953\", element=\"83fdf530-379a-40b8-83d0-f639e02bc92b\")> <selenium.webdriver.remote.webelement.WebElement (session=\"080972838bb4b03c932e5b131bef2953\", element=\"6f58c753-9ef2-49e2-bd17-12fcdc96f00f\")> <selenium.webdriver.remote.webelement.WebElement (session=\"080972838bb4b03c932e5b131bef2953\", element=\"eddb9aec-a601-4a1a-8a5f-badbaf25a130\")>\n",
      "<selenium.webdriver.remote.webelement.WebElement (session=\"080972838bb4b03c932e5b131bef2953\", element=\"cbb798c6-a077-44c3-ae8b-6c10f8555e2f\")> <selenium.webdriver.remote.webelement.WebElement (session=\"080972838bb4b03c932e5b131bef2953\", element=\"03eef3b9-7d13-4d38-a4d6-2704514797a1\")> <selenium.webdriver.remote.webelement.WebElement (session=\"080972838bb4b03c932e5b131bef2953\", element=\"eaff7d5b-2602-4758-8de5-f1d4385fb047\")>\n"
     ]
    }
   ],
   "source": [
    "quotes = wd.find_elements_by_class_name(\"quote\")\n",
    "for quote in quotes:\n",
    "    quote_text = quote.find_element_by_class_name('text')\n",
    "    author = quote.find_element_by_class_name('author')\n",
    "    tags = quote.find_element_by_class_name('tags')\n",
    "    print(quote_text, author, tags)"
   ]
  },
  {
   "cell_type": "code",
   "execution_count": 171,
   "metadata": {},
   "outputs": [
    {
     "name": "stdout",
     "output_type": "stream",
     "text": [
      "“The world as we have created it is a process of our thinking. It cannot be changed without changing our thinking.” \n",
      " Albert Einstein \n",
      " Tags: change deep-thoughts thinking world \n",
      "\n",
      "“It is our choices, Harry, that show what we truly are, far more than our abilities.” \n",
      " J.K. Rowling \n",
      " Tags: abilities choices \n",
      "\n",
      "“There are only two ways to live your life. One is as though nothing is a miracle. The other is as though everything is a miracle.” \n",
      " Albert Einstein \n",
      " Tags: inspirational life live miracle miracles \n",
      "\n",
      "“The person, be it gentleman or lady, who has not pleasure in a good novel, must be intolerably stupid.” \n",
      " Jane Austen \n",
      " Tags: aliteracy books classic humor \n",
      "\n",
      "“Imperfection is beauty, madness is genius and it's better to be absolutely ridiculous than absolutely boring.” \n",
      " Marilyn Monroe \n",
      " Tags: be-yourself inspirational \n",
      "\n",
      "“Try not to become a man of success. Rather become a man of value.” \n",
      " Albert Einstein \n",
      " Tags: adulthood success value \n",
      "\n",
      "“It is better to be hated for what you are than to be loved for what you are not.” \n",
      " André Gide \n",
      " Tags: life love \n",
      "\n",
      "“I have not failed. I've just found 10,000 ways that won't work.” \n",
      " Thomas A. Edison \n",
      " Tags: edison failure inspirational paraphrased \n",
      "\n",
      "“A woman is like a tea bag; you never know how strong it is until it's in hot water.” \n",
      " Eleanor Roosevelt \n",
      " Tags: misattributed-eleanor-roosevelt \n",
      "\n",
      "“A day without sunshine is like, you know, night.” \n",
      " Steve Martin \n",
      " Tags: humor obvious simile \n",
      "\n"
     ]
    }
   ],
   "source": [
    "#we want to access the text value\n",
    "quotes = wd.find_elements_by_class_name(\"quote\")\n",
    "for quote in quotes:\n",
    "    quote_text = quote.find_element_by_class_name('text').text\n",
    "    author = quote.find_element_by_class_name('author').text\n",
    "    tags = quote.find_element_by_class_name('tags').text\n",
    "    print(quote_text, '\\n', author, '\\n', tags, '\\n')"
   ]
  },
  {
   "cell_type": "code",
   "execution_count": 180,
   "metadata": {},
   "outputs": [],
   "source": [
    "#### what if we cant the quotes of the first 10 pages?\n",
    "def get_quotes(wd):\n",
    "    for i in range(1,11):\n",
    "        wd.get('http://quotes.toscrape.com/page/'+str(i)+'/')\n",
    "        quotes = wd.find_elements_by_class_name(\"quote\")\n",
    "        for quote in quotes:\n",
    "            quote_text = quote.find_element_by_class_name('text').text\n",
    "            author = quote.find_element_by_class_name('author').text\n",
    "            tags = quote.find_element_by_class_name('tags').text\n",
    "            print(quote_text, '\\n', author, '\\n', tags, '\\n')"
   ]
  },
  {
   "cell_type": "code",
   "execution_count": null,
   "metadata": {},
   "outputs": [],
   "source": [
    "get_quotes(wd)"
   ]
  },
  {
   "cell_type": "code",
   "execution_count": 182,
   "metadata": {},
   "outputs": [
    {
     "name": "stderr",
     "output_type": "stream",
     "text": [
      "/Users/edwin.jimenez/miniconda2/envs/jupyter-lab/lib/python3.7/site-packages/ipykernel_launcher.py:5: DeprecationWarning: use options instead of chrome_options\n",
      "  \"\"\"\n"
     ]
    },
    {
     "name": "stdout",
     "output_type": "stream",
     "text": [
      "“The world as we have created it is a process of our thinking. It cannot be changed without changing our thinking.” \n",
      " Albert Einstein \n",
      " Tags: change deep-thoughts thinking world \n",
      "\n",
      "“It is our choices, Harry, that show what we truly are, far more than our abilities.” \n",
      " J.K. Rowling \n",
      " Tags: abilities choices \n",
      "\n",
      "“There are only two ways to live your life. One is as though nothing is a miracle. The other is as though everything is a miracle.” \n",
      " Albert Einstein \n",
      " Tags: inspirational life live miracle miracles \n",
      "\n",
      "“The person, be it gentleman or lady, who has not pleasure in a good novel, must be intolerably stupid.” \n",
      " Jane Austen \n",
      " Tags: aliteracy books classic humor \n",
      "\n",
      "“Imperfection is beauty, madness is genius and it's better to be absolutely ridiculous than absolutely boring.” \n",
      " Marilyn Monroe \n",
      " Tags: be-yourself inspirational \n",
      "\n",
      "“Try not to become a man of success. Rather become a man of value.” \n",
      " Albert Einstein \n",
      " Tags: adulthood success value \n",
      "\n",
      "“It is better to be hated for what you are than to be loved for what you are not.” \n",
      " André Gide \n",
      " Tags: life love \n",
      "\n",
      "“I have not failed. I've just found 10,000 ways that won't work.” \n",
      " Thomas A. Edison \n",
      " Tags: edison failure inspirational paraphrased \n",
      "\n",
      "“A woman is like a tea bag; you never know how strong it is until it's in hot water.” \n",
      " Eleanor Roosevelt \n",
      " Tags: misattributed-eleanor-roosevelt \n",
      "\n",
      "“A day without sunshine is like, you know, night.” \n",
      " Steve Martin \n",
      " Tags: humor obvious simile \n",
      "\n",
      "“This life is what you make it. No matter what, you're going to mess up sometimes, it's a universal truth. But the good part is you get to decide how you're going to mess it up. Girls will be your friends - they'll act like it anyway. But just remember, some come, some go. The ones that stay with you through everything - they're your true best friends. Don't let go of them. Also remember, sisters make the best friends in the world. As for lovers, well, they'll come and go too. And baby, I hate to say it, most of them - actually pretty much all of them are going to break your heart, but you can't give up because if you give up, you'll never find your soulmate. You'll never find that half who makes you whole and that goes for everything. Just because you fail once, doesn't mean you're gonna fail at everything. Keep trying, hold on, and always, always, always believe in yourself, because if you don't, then who will, sweetie? So keep your head high, keep your chin up, and most importantly, keep smiling, because life's a beautiful thing and there's so much to smile about.” \n",
      " Marilyn Monroe \n",
      " Tags: friends heartbreak inspirational life love sisters \n",
      "\n",
      "“It takes a great deal of bravery to stand up to our enemies, but just as much to stand up to our friends.” \n",
      " J.K. Rowling \n",
      " Tags: courage friends \n",
      "\n",
      "“If you can't explain it to a six year old, you don't understand it yourself.” \n",
      " Albert Einstein \n",
      " Tags: simplicity understand \n",
      "\n",
      "“You may not be her first, her last, or her only. She loved before she may love again. But if she loves you now, what else matters? She's not perfect—you aren't either, and the two of you may never be perfect together but if she can make you laugh, cause you to think twice, and admit to being human and making mistakes, hold onto her and give her the most you can. She may not be thinking about you every second of the day, but she will give you a part of her that she knows you can break—her heart. So don't hurt her, don't change her, don't analyze and don't expect more than she can give. Smile when she makes you happy, let her know when she makes you mad, and miss her when she's not there.” \n",
      " Bob Marley \n",
      " Tags: love \n",
      "\n",
      "“I like nonsense, it wakes up the brain cells. Fantasy is a necessary ingredient in living.” \n",
      " Dr. Seuss \n",
      " Tags: fantasy \n",
      "\n",
      "“I may not have gone where I intended to go, but I think I have ended up where I needed to be.” \n",
      " Douglas Adams \n",
      " Tags: life navigation \n",
      "\n",
      "“The opposite of love is not hate, it's indifference. The opposite of art is not ugliness, it's indifference. The opposite of faith is not heresy, it's indifference. And the opposite of life is not death, it's indifference.” \n",
      " Elie Wiesel \n",
      " Tags: activism apathy hate indifference inspirational love opposite philosophy \n",
      "\n",
      "“It is not a lack of love, but a lack of friendship that makes unhappy marriages.” \n",
      " Friedrich Nietzsche \n",
      " Tags: friendship lack-of-friendship lack-of-love love marriage unhappy-marriage \n",
      "\n",
      "“Good friends, good books, and a sleepy conscience: this is the ideal life.” \n",
      " Mark Twain \n",
      " Tags: books contentment friends friendship life \n",
      "\n",
      "“Life is what happens to us while we are making other plans.” \n",
      " Allen Saunders \n",
      " Tags: fate life misattributed-john-lennon planning plans \n",
      "\n",
      "“I love you without knowing how, or when, or from where. I love you simply, without problems or pride: I love you in this way because I do not know any other way of loving but this, in which there is no I or you, so intimate that your hand upon my chest is my hand, so intimate that when I fall asleep your eyes close.” \n",
      " Pablo Neruda \n",
      " Tags: love poetry \n",
      "\n",
      "“For every minute you are angry you lose sixty seconds of happiness.” \n",
      " Ralph Waldo Emerson \n",
      " Tags: happiness \n",
      "\n",
      "“If you judge people, you have no time to love them.” \n",
      " Mother Teresa \n",
      " Tags: attributed-no-source \n",
      "\n",
      "“Anyone who thinks sitting in church can make you a Christian must also think that sitting in a garage can make you a car.” \n",
      " Garrison Keillor \n",
      " Tags: humor religion \n",
      "\n",
      "“Beauty is in the eye of the beholder and it may be necessary from time to time to give a stupid or misinformed beholder a black eye.” \n",
      " Jim Henson \n",
      " Tags: humor \n",
      "\n",
      "“Today you are You, that is truer than true. There is no one alive who is Youer than You.” \n",
      " Dr. Seuss \n",
      " Tags: comedy life yourself \n",
      "\n",
      "“If you want your children to be intelligent, read them fairy tales. If you want them to be more intelligent, read them more fairy tales.” \n",
      " Albert Einstein \n",
      " Tags: children fairy-tales \n",
      "\n",
      "“It is impossible to live without failing at something, unless you live so cautiously that you might as well not have lived at all - in which case, you fail by default.” \n",
      " J.K. Rowling \n",
      "  \n",
      "\n",
      "“Logic will get you from A to Z; imagination will get you everywhere.” \n",
      " Albert Einstein \n",
      " Tags: imagination \n",
      "\n",
      "“One good thing about music, when it hits you, you feel no pain.” \n",
      " Bob Marley \n",
      " Tags: music \n",
      "\n",
      "“The more that you read, the more things you will know. The more that you learn, the more places you'll go.” \n",
      " Dr. Seuss \n",
      " Tags: learning reading seuss \n",
      "\n",
      "“Of course it is happening inside your head, Harry, but why on earth should that mean that it is not real?” \n",
      " J.K. Rowling \n",
      " Tags: dumbledore \n",
      "\n",
      "“The truth is, everyone is going to hurt you. You just got to find the ones worth suffering for.” \n",
      " Bob Marley \n",
      " Tags: friendship \n",
      "\n",
      "“Not all of us can do great things. But we can do small things with great love.” \n",
      " Mother Teresa \n",
      " Tags: misattributed-to-mother-teresa paraphrased \n",
      "\n",
      "“To the well-organized mind, death is but the next great adventure.” \n",
      " J.K. Rowling \n",
      " Tags: death inspirational \n",
      "\n",
      "“All you need is love. But a little chocolate now and then doesn't hurt.” \n",
      " Charles M. Schulz \n",
      " Tags: chocolate food humor \n",
      "\n",
      "“We read to know we're not alone.” \n",
      " William Nicholson \n",
      " Tags: misattributed-to-c-s-lewis reading \n",
      "\n",
      "“Any fool can know. The point is to understand.” \n",
      " Albert Einstein \n",
      " Tags: knowledge learning understanding wisdom \n",
      "\n",
      "“I have always imagined that Paradise will be a kind of library.” \n",
      " Jorge Luis Borges \n",
      " Tags: books library \n",
      "\n",
      "“It is never too late to be what you might have been.” \n",
      " George Eliot \n",
      " Tags: inspirational \n",
      "\n",
      "“A reader lives a thousand lives before he dies, said Jojen. The man who never reads lives only one.” \n",
      " George R.R. Martin \n",
      " Tags: read readers reading reading-books \n",
      "\n",
      "“You can never get a cup of tea large enough or a book long enough to suit me.” \n",
      " C.S. Lewis \n",
      " Tags: books inspirational reading tea \n",
      "\n",
      "“You believe lies so you eventually learn to trust no one but yourself.” \n",
      " Marilyn Monroe \n",
      "  \n",
      "\n",
      "“If you can make a woman laugh, you can make her do anything.” \n",
      " Marilyn Monroe \n",
      " Tags: girls love \n",
      "\n",
      "“Life is like riding a bicycle. To keep your balance, you must keep moving.” \n",
      " Albert Einstein \n",
      " Tags: life simile \n",
      "\n",
      "“The real lover is the man who can thrill you by kissing your forehead or smiling into your eyes or just staring into space.” \n",
      " Marilyn Monroe \n",
      " Tags: love \n",
      "\n",
      "“A wise girl kisses but doesn't love, listens but doesn't believe, and leaves before she is left.” \n",
      " Marilyn Monroe \n",
      " Tags: attributed-no-source \n",
      "\n",
      "“Only in the darkness can you see the stars.” \n",
      " Martin Luther King Jr. \n",
      " Tags: hope inspirational \n",
      "\n"
     ]
    },
    {
     "name": "stdout",
     "output_type": "stream",
     "text": [
      "“It matters not what someone is born, but what they grow to be.” \n",
      " J.K. Rowling \n",
      " Tags: dumbledore \n",
      "\n",
      "“Love does not begin and end the way we seem to think it does. Love is a battle, love is a war; love is a growing up.” \n",
      " James Baldwin \n",
      " Tags: love \n",
      "\n",
      "“There is nothing I would not do for those who are really my friends. I have no notion of loving people by halves, it is not my nature.” \n",
      " Jane Austen \n",
      " Tags: friendship love \n",
      "\n",
      "“Do one thing every day that scares you.” \n",
      " Eleanor Roosevelt \n",
      " Tags: attributed fear inspiration \n",
      "\n",
      "“I am good, but not an angel. I do sin, but I am not the devil. I am just a small girl in a big world trying to find someone to love.” \n",
      " Marilyn Monroe \n",
      " Tags: attributed-no-source \n",
      "\n",
      "“If I were not a physicist, I would probably be a musician. I often think in music. I live my daydreams in music. I see my life in terms of music.” \n",
      " Albert Einstein \n",
      " Tags: music \n",
      "\n",
      "“If you only read the books that everyone else is reading, you can only think what everyone else is thinking.” \n",
      " Haruki Murakami \n",
      " Tags: books thought \n",
      "\n",
      "“The difference between genius and stupidity is: genius has its limits.” \n",
      " Alexandre Dumas fils \n",
      " Tags: misattributed-to-einstein \n",
      "\n",
      "“He's like a drug for you, Bella.” \n",
      " Stephenie Meyer \n",
      " Tags: drug romance simile \n",
      "\n",
      "“There is no friend as loyal as a book.” \n",
      " Ernest Hemingway \n",
      " Tags: books friends novelist-quotes \n",
      "\n",
      "“When one door of happiness closes, another opens; but often we look so long at the closed door that we do not see the one which has been opened for us.” \n",
      " Helen Keller \n",
      " Tags: inspirational \n",
      "\n",
      "“Life isn't about finding yourself. Life is about creating yourself.” \n",
      " George Bernard Shaw \n",
      " Tags: inspirational life yourself \n",
      "\n",
      "“That's the problem with drinking, I thought, as I poured myself a drink. If something bad happens you drink in an attempt to forget; if something good happens you drink in order to celebrate; and if nothing happens you drink to make something happen.” \n",
      " Charles Bukowski \n",
      " Tags: alcohol \n",
      "\n",
      "“You don’t forget the face of the person who was your last hope.” \n",
      " Suzanne Collins \n",
      " Tags: the-hunger-games \n",
      "\n",
      "“Remember, we're madly in love, so it's all right to kiss me anytime you feel like it.” \n",
      " Suzanne Collins \n",
      " Tags: humor \n",
      "\n",
      "“To love at all is to be vulnerable. Love anything and your heart will be wrung and possibly broken. If you want to make sure of keeping it intact you must give it to no one, not even an animal. Wrap it carefully round with hobbies and little luxuries; avoid all entanglements. Lock it up safe in the casket or coffin of your selfishness. But in that casket, safe, dark, motionless, airless, it will change. It will not be broken; it will become unbreakable, impenetrable, irredeemable. To love is to be vulnerable.” \n",
      " C.S. Lewis \n",
      " Tags: love \n",
      "\n",
      "“Not all those who wander are lost.” \n",
      " J.R.R. Tolkien \n",
      " Tags: bilbo journey lost quest travel wander \n",
      "\n",
      "“Do not pity the dead, Harry. Pity the living, and, above all those who live without love.” \n",
      " J.K. Rowling \n",
      " Tags: live-death-love \n",
      "\n",
      "“There is nothing to writing. All you do is sit down at a typewriter and bleed.” \n",
      " Ernest Hemingway \n",
      " Tags: good writing \n",
      "\n",
      "“Finish each day and be done with it. You have done what you could. Some blunders and absurdities no doubt crept in; forget them as soon as you can. Tomorrow is a new day. You shall begin it serenely and with too high a spirit to be encumbered with your old nonsense.” \n",
      " Ralph Waldo Emerson \n",
      " Tags: life regrets \n",
      "\n",
      "“I have never let my schooling interfere with my education.” \n",
      " Mark Twain \n",
      " Tags: education \n",
      "\n",
      "“I have heard there are troubles of more than one kind. Some come from ahead and some come from behind. But I've bought a big bat. I'm all ready you see. Now my troubles are going to have troubles with me!” \n",
      " Dr. Seuss \n",
      " Tags: troubles \n",
      "\n",
      "“If I had a flower for every time I thought of you...I could walk through my garden forever.” \n",
      " Alfred Tennyson \n",
      " Tags: friendship love \n",
      "\n",
      "“Some people never go crazy. What truly horrible lives they must lead.” \n",
      " Charles Bukowski \n",
      " Tags: humor \n",
      "\n",
      "“The trouble with having an open mind, of course, is that people will insist on coming along and trying to put things in it.” \n",
      " Terry Pratchett \n",
      " Tags: humor open-mind thinking \n",
      "\n",
      "“Think left and think right and think low and think high. Oh, the thinks you can think up if only you try!” \n",
      " Dr. Seuss \n",
      " Tags: humor philosophy \n",
      "\n",
      "“What really knocks me out is a book that, when you're all done reading it, you wish the author that wrote it was a terrific friend of yours and you could call him up on the phone whenever you felt like it. That doesn't happen much, though.” \n",
      " J.D. Salinger \n",
      " Tags: authors books literature reading writing \n",
      "\n",
      "“The reason I talk to myself is because I’m the only one whose answers I accept.” \n",
      " George Carlin \n",
      " Tags: humor insanity lies lying self-indulgence truth \n",
      "\n",
      "“You may say I'm a dreamer, but I'm not the only one. I hope someday you'll join us. And the world will live as one.” \n",
      " John Lennon \n",
      " Tags: beatles connection dreamers dreaming dreams hope inspirational peace \n",
      "\n",
      "“I am free of all prejudice. I hate everyone equally. ” \n",
      " W.C. Fields \n",
      " Tags: humor sinister \n",
      "\n",
      "“The question isn't who is going to let me; it's who is going to stop me.” \n",
      " Ayn Rand \n",
      "  \n",
      "\n",
      "“′Classic′ - a book which people praise and don't read.” \n",
      " Mark Twain \n",
      " Tags: books classic reading \n",
      "\n",
      "“Anyone who has never made a mistake has never tried anything new.” \n",
      " Albert Einstein \n",
      " Tags: mistakes \n",
      "\n",
      "“A lady's imagination is very rapid; it jumps from admiration to love, from love to matrimony in a moment.” \n",
      " Jane Austen \n",
      " Tags: humor love romantic women \n",
      "\n",
      "“Remember, if the time should come when you have to make a choice between what is right and what is easy, remember what happened to a boy who was good, and kind, and brave, because he strayed across the path of Lord Voldemort. Remember Cedric Diggory.” \n",
      " J.K. Rowling \n",
      " Tags: integrity \n",
      "\n",
      "“I declare after all there is no enjoyment like reading! How much sooner one tires of any thing than of a book! -- When I have a house of my own, I shall be miserable if I have not an excellent library.” \n",
      " Jane Austen \n",
      " Tags: books library reading \n",
      "\n",
      "“There are few people whom I really love, and still fewer of whom I think well. The more I see of the world, the more am I dissatisfied with it; and every day confirms my belief of the inconsistency of all human characters, and of the little dependence that can be placed on the appearance of merit or sense.” \n",
      " Jane Austen \n",
      " Tags: elizabeth-bennet jane-austen \n",
      "\n",
      "“Some day you will be old enough to start reading fairy tales again.” \n",
      " C.S. Lewis \n",
      " Tags: age fairytales growing-up \n",
      "\n",
      "“We are not necessarily doubting that God will do the best for us; we are wondering how painful the best will turn out to be.” \n",
      " C.S. Lewis \n",
      " Tags: god \n",
      "\n",
      "“The fear of death follows from the fear of life. A man who lives fully is prepared to die at any time.” \n",
      " Mark Twain \n",
      " Tags: death life \n",
      "\n",
      "“A lie can travel half way around the world while the truth is putting on its shoes.” \n",
      " Mark Twain \n",
      " Tags: misattributed-mark-twain truth \n",
      "\n",
      "“I believe in Christianity as I believe that the sun has risen: not only because I see it, but because by it I see everything else.” \n",
      " C.S. Lewis \n",
      " Tags: christianity faith religion sun \n",
      "\n",
      "“The truth.\" Dumbledore sighed. \"It is a beautiful and terrible thing, and should therefore be treated with great caution.” \n",
      " J.K. Rowling \n",
      " Tags: truth \n",
      "\n",
      "“I'm the one that's got to die when it's time for me to die, so let me live my life the way I want to.” \n",
      " Jimi Hendrix \n",
      " Tags: death life \n",
      "\n",
      "“To die will be an awfully big adventure.” \n",
      " J.M. Barrie \n",
      " Tags: adventure love \n",
      "\n",
      "“It takes courage to grow up and become who you really are.” \n",
      " E.E. Cummings \n",
      " Tags: courage \n",
      "\n",
      "“But better to get hurt by the truth than comforted with a lie.” \n",
      " Khaled Hosseini \n",
      " Tags: life \n",
      "\n",
      "“You never really understand a person until you consider things from his point of view... Until you climb inside of his skin and walk around in it.” \n",
      " Harper Lee \n",
      " Tags: better-life-empathy \n",
      "\n",
      "“You have to write the book that wants to be written. And if the book will be too difficult for grown-ups, then you write it for children.” \n",
      " Madeleine L'Engle \n",
      " Tags: books children difficult grown-ups write writers writing \n",
      "\n",
      "“Never tell the truth to people who are not worthy of it.” \n",
      " Mark Twain \n",
      " Tags: truth \n",
      "\n"
     ]
    },
    {
     "name": "stdout",
     "output_type": "stream",
     "text": [
      "“A person's a person, no matter how small.” \n",
      " Dr. Seuss \n",
      " Tags: inspirational \n",
      "\n",
      "“... a mind needs books as a sword needs a whetstone, if it is to keep its edge.” \n",
      " George R.R. Martin \n",
      " Tags: books mind \n",
      "\n"
     ]
    }
   ],
   "source": [
    "from selenium.webdriver.chrome.options import Options\n",
    "\n",
    "options = Options()\n",
    "options.add_argument('--headless')\n",
    "wd = webdriver.Chrome(executable_path=r\"/Users/edwin.jimenez/Saturdays AI/chromedriver\", chrome_options=options)\n",
    "get_quotes(wd)\n",
    "wd.quit()"
   ]
  },
  {
   "cell_type": "markdown",
   "metadata": {},
   "source": [
    "<img src=\"img/whiteimage.png\" style=\"width:650px\">"
   ]
  },
  {
   "cell_type": "markdown",
   "metadata": {},
   "source": [
    "Imagine that you want to know daily which one is the best mexican bank to buy or sell dollars, but the site you visit [el dolar](https://www.eldolar.info/en/mexico/dia/hoy) does not have an API :(\n",
    "\n",
    "How can you get the data?"
   ]
  },
  {
   "cell_type": "code",
   "execution_count": 222,
   "metadata": {},
   "outputs": [
    {
     "name": "stdout",
     "output_type": "stream",
     "text": [
      "Bank:  Banamex Buy:  24.19 Sell: 25.19\n",
      "Bank:  Banco Azteca Buy:  21.50 Sell: 24.59\n",
      "Bank:  Banco de México - FIX Buy:  25.1185 Sell: 25.1185\n",
      "Bank:  Banco de México - Interbancario 48 horas Buy:  24.976 Sell: 24.976\n",
      "Bank:  Banorte Buy:  23.55 Sell: 25.15\n",
      "Bank:  BBVA Bancomer Buy:  23.93 Sell: 25.18\n",
      "Bank:  DOF, Diario Oficial de la Federación Buy:  25.0782 Sell: 25.0782\n",
      "Bank:  Inbursa Buy:  24.40 Sell: 25.40\n",
      "Bank:  Intercam Buy:  24.37 Sell: 25.06\n",
      "Bank:  IXE Buy:  23.55 Sell: 25.15\n",
      "Bank:  Monex Buy:  24.52 Sell: 25.10\n",
      "Bank:  Para pagos de obligaciones Buy:  24.1113 Sell: 24.1113\n",
      "Bank:  SAT, Servicio de Administración Tributaria Buy:  25.0782 Sell: 25.0782\n",
      "Bank:  Scotiabank Buy:  20.00 Sell: 25.00\n"
     ]
    }
   ],
   "source": [
    "from selenium.webdriver.common.by import By\n",
    "\n",
    "wd = webdriver.Chrome(executable_path=r\"/Users/edwin.jimenez/Saturdays AI/chromedriver\")#, chrome_options=options)\n",
    "wd.get('https://www.eldolar.info/en/mexico/dia/hoy')\n",
    "menu = wd.find_element_by_tag_name('tbody')\n",
    "all_tr = menu.find_elements_by_tag_name(\"tr\")\n",
    "for tr in all_tr:\n",
    "    bank_name = tr.find_element_by_class_name('small-hide').text\n",
    "    buy_sell = tr.find_elements_by_class_name('xTimes')\n",
    "    if len(buy_sell)>1:\n",
    "        buy = buy_sell[0].text\n",
    "        sell = buy_sell[1].text\n",
    "    else:\n",
    "        buy = buy_sell[0].text\n",
    "        sell = buy_sell[0].text\n",
    "    print('Bank: ', bank_name, 'Buy: ', buy, 'Sell:', sell)\n",
    "wd.quit()"
   ]
  },
  {
   "cell_type": "markdown",
   "metadata": {},
   "source": [
    "<img src=\"img/whiteimage.png\" style=\"width:650px\">"
   ]
  },
  {
   "cell_type": "markdown",
   "metadata": {},
   "source": [
    "---\n",
    "Let's try it with a page that you know, get the top navigation bar elements by class\n"
   ]
  },
  {
   "cell_type": "code",
   "execution_count": 210,
   "metadata": {},
   "outputs": [
    {
     "name": "stdout",
     "output_type": "stream",
     "text": [
      "Página principal\n",
      "Calendario de actividades\n",
      "Aviso de Privacidad\n",
      "\n"
     ]
    }
   ],
   "source": [
    "from selenium.webdriver.common.by import By\n",
    "\n",
    "wd = webdriver.Chrome(executable_path=r\"/Users/edwin.jimenez/Saturdays AI/chromedriver\")#, chrome_options=options)\n",
    "wd.get('https://sites.google.com/view/saturdays-ai-guadalajara')\n",
    "menu = wd.find_elements_by_class_name('VsJjtf')\n",
    "for elem in menu:\n",
    "    print (elem.text)\n",
    "wd.quit()"
   ]
  },
  {
   "cell_type": "code",
   "execution_count": 197,
   "metadata": {},
   "outputs": [
    {
     "name": "stdout",
     "output_type": "stream",
     "text": [
      "Página principalCalendario de actividadesAviso de Privacidad\n"
     ]
    }
   ],
   "source": [
    "#but what will happen if the class name is changed?\n",
    "from selenium.webdriver.common.by import By\n",
    "\n",
    "wd = webdriver.Chrome(executable_path=r\"/Users/edwin.jimenez/Saturdays AI/chromedriver\")#, chrome_options=options)\n",
    "wd.get('https://sites.google.com/view/saturdays-ai-guadalajara')\n",
    "menu = wd.find_element_by_xpath('//*[@id=\"WDxLfe\"]/ul').text\n",
    "print(menu)\n",
    "wd.quit()"
   ]
  },
  {
   "cell_type": "code",
   "execution_count": 213,
   "metadata": {},
   "outputs": [
    {
     "name": "stdout",
     "output_type": "stream",
     "text": [
      "Página principal\n",
      "Calendario de actividades\n",
      "Aviso de Privacidad\n"
     ]
    }
   ],
   "source": [
    "wd = webdriver.Chrome(executable_path=r\"/Users/edwin.jimenez/Saturdays AI/chromedriver\")#, chrome_options=options)\n",
    "wd.get('https://sites.google.com/view/saturdays-ai-guadalajara')\n",
    "menu = wd.find_element_by_xpath('//*[@id=\"WDxLfe\"]/ul')\n",
    "all_li = menu.find_elements_by_tag_name(\"li\")\n",
    "for li in all_li:\n",
    "    text = li.text\n",
    "    if text != '':\n",
    "        print (text)\n",
    "wd.quit()\n"
   ]
  },
  {
   "cell_type": "markdown",
   "metadata": {},
   "source": [
    "<img src=\"img/whiteimage.png\" style=\"width:650px\">"
   ]
  },
  {
   "cell_type": "markdown",
   "metadata": {},
   "source": [
    "### Homework \n",
    "Extract the `Programa` information from https://sites.google.com/view/saturdays-ai-guadalajara/calendario-de-actividades"
   ]
  },
  {
   "cell_type": "markdown",
   "metadata": {},
   "source": [
    "#### References\n",
    "https://dev.to/lewiskori/beginner-s-guide-to-web-scraping-with-python-s-selenium-3fl9\n",
    "\n",
    "https://medium.com/shakuro/adopting-ipython-jupyter-for-selenium-testing-d02309dd00b8"
   ]
  }
 ],
 "metadata": {
  "kernelspec": {
   "display_name": "Python 3",
   "language": "python",
   "name": "python3"
  },
  "language_info": {
   "codemirror_mode": {
    "name": "ipython",
    "version": 3
   },
   "file_extension": ".py",
   "mimetype": "text/x-python",
   "name": "python",
   "nbconvert_exporter": "python",
   "pygments_lexer": "ipython3",
   "version": "3.7.3"
  }
 },
 "nbformat": 4,
 "nbformat_minor": 2
}
