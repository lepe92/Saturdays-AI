{
 "cells": [
  {
   "cell_type": "markdown",
   "metadata": {},
   "source": [
    "# How can I get my data if I do not have a file?\n",
    "\n",
    "<img src=\"img/web-api.png\" style=\"width:600px\">"
   ]
  },
  {
   "cell_type": "markdown",
   "metadata": {},
   "source": [
    "<img src=\"img/whiteimage.png\" style=\"width:650px\">"
   ]
  },
  {
   "cell_type": "markdown",
   "metadata": {},
   "source": [
    "## API\n",
    "\n",
    "An API is an application programming interface. It is a set of rules that allow programs to talk to each other. The developer creates the API on the server and allows the client to talk to it."
   ]
  },
  {
   "cell_type": "code",
   "execution_count": 1,
   "metadata": {},
   "outputs": [
    {
     "name": "stderr",
     "output_type": "stream",
     "text": [
      "/Users/edwin.jimenez/miniconda2/envs/jupyter-lab/lib/python3.7/site-packages/IPython/core/display.py:689: UserWarning: Consider using IPython.display.IFrame instead\n",
      "  warnings.warn(\"Consider using IPython.display.IFrame instead\")\n"
     ]
    },
    {
     "data": {
      "text/html": [
       "<iframe width=\"560\" height=\"315\" src=\"https://www.youtube.com/embed/s7wmiS2mSXY\" frameborder=\"0\" allowfullscreen></iframe>"
      ],
      "text/plain": [
       "<IPython.core.display.HTML object>"
      ]
     },
     "execution_count": 1,
     "metadata": {},
     "output_type": "execute_result"
    }
   ],
   "source": [
    "from IPython.display import HTML\n",
    "\n",
    "HTML('<iframe width=\"560\" height=\"315\" src=\"https://www.youtube.com/embed/s7wmiS2mSXY\" frameborder=\"0\" allowfullscreen></iframe>')"
   ]
  },
  {
   "cell_type": "markdown",
   "metadata": {},
   "source": [
    "`REST` determines how the API looks like. It stands for “Representational State Transfer”. It is a set of rules that developers follow when they create their API. One of these rules states that you should be able to get a piece of data (called a resource) when you link to a specific URL.\n",
    "\n",
    "Each URL is called a **request** while the data sent back to you is called a **response**."
   ]
  },
  {
   "cell_type": "markdown",
   "metadata": {},
   "source": [
    "<img src=\"img/whiteimage.png\" style=\"width:650px\">"
   ]
  },
  {
   "cell_type": "markdown",
   "metadata": {},
   "source": [
    "### Request\n",
    "\n",
    "#### The endpoint\n",
    "\n",
    "The URL is nothing more than the way to make the request. Let's talk now about what the structure is:\n",
    "\n",
    "* Base URL\n",
    "\n",
    "This is the beginning of the request URL. Here, you basically inform the domain that repeats itself in any request. For example:\n",
    "https://jsonplaceholder.typicode.com\n",
    "\n",
    "* Resource or Path\n",
    "\n",
    "The resource is the type of information you are looking for. Let's simulate that we are looking to know about posts, so we add the posts resource:\n",
    "https://jsonplaceholder.typicode.com/posts\n",
    "\n",
    "* Query String\n",
    "\n",
    "The query string contains the parameters of that request. So, if I wanted to know the posts from the user with id 1, I would include these parameters ?userId=1 and our URL would look like this:\n",
    "https://jsonplaceholder.typicode.com/posts?userId=1\n",
    "\n",
    "As you can see above, because these are URL parameters, you use (?) and if you want to use more than one parameter you use (&).\n",
    "https://jsonplaceholder.typicode.com/posts?userId=1&id=2\n",
    "\n",
    "Note: The Query String is not only used for filters. It can be used as paging parameters, versioning, sorting, and more."
   ]
  },
  {
   "cell_type": "markdown",
   "metadata": {},
   "source": [
    "<img src=\"img/whiteimage.png\" style=\"width:650px\">"
   ]
  },
  {
   "cell_type": "markdown",
   "metadata": {},
   "source": [
    "### Response\n",
    "\n",
    "#### Code\n",
    "**200** OK. \n",
    "\n",
    "**301** Moved Permanently.\n",
    "\n",
    "**400** Bad Request.\n",
    "\n",
    "**401** Unauthorized Error.\n",
    "\n",
    "**403** Forbidden.\n",
    "\n",
    "**404** Not Found.\n",
    "\n",
    "**503** Service Unavailable."
   ]
  },
  {
   "cell_type": "code",
   "execution_count": null,
   "metadata": {},
   "outputs": [],
   "source": [
    "import requests #https://requests.readthedocs.io/en/master/\n",
    "response = requests.get(\"http://api.open-notify.org/this-api-doesnt-exist\")\n",
    "print(response.status_code)"
   ]
  },
  {
   "cell_type": "code",
   "execution_count": null,
   "metadata": {},
   "outputs": [],
   "source": [
    "response = requests.get(\"https://jsonplaceholder.typicode.com/posts?userId=1\")\n",
    "print(response.status_code)"
   ]
  },
  {
   "cell_type": "markdown",
   "metadata": {},
   "source": [
    "<img src=\"img/whiteimage.png\" style=\"width:650px\">"
   ]
  },
  {
   "cell_type": "markdown",
   "metadata": {},
   "source": [
    "#### Method\n",
    "\n",
    "\n",
    "The method helps you to inform the type of action you are taking in that request.\n",
    "\n",
    "Among the main methods, we have:\n",
    "\n",
    "* Get (Search data)\n",
    "* Post (Send data)\n",
    "* Put and Patch (Update Data)\n",
    "* Delete (Delete data)"
   ]
  },
  {
   "cell_type": "markdown",
   "metadata": {},
   "source": [
    "<img src=\"img/whiteimage.png\" style=\"width:650px\">"
   ]
  },
  {
   "cell_type": "markdown",
   "metadata": {},
   "source": [
    "#### Get Data response types\n",
    "\n",
    "##### JSON https://www.json.org/json-en.html\n",
    "\n",
    "JSON (JavaScript Object Notation) is a lightweight data-interchange format. It is easy for humans to read and write. It is easy for machines to parse and generate. \n",
    "\n",
    "JSON is built on two structures:\n",
    "* A collection of name/value pairs. In various languages, this is realized as an object, record, struct, dictionary, hash table, keyed list, or associative array.\n",
    "\n",
    "* An ordered list of values. In most languages, this is realized as an array, vector, list, or sequence.\n",
    "\n",
    "Example:\n",
    "```\n",
    "[\n",
    "  {\n",
    "    \"userId\": 1,\n",
    "    \"id\": 1,\n",
    "    \"title\": \"sunt aut facere repellat provident occaecati excepturi optio reprehenderit\",\n",
    "    \"body\": \"quia et suscipit\\nsuscipit recusandae consequuntur expedita et cum\\nreprehenderit molestiae ut ut quas totam\\nnostrum rerum est autem sunt rem eveniet architecto\"\n",
    "  }\n",
    "]\n",
    "```"
   ]
  },
  {
   "cell_type": "code",
   "execution_count": null,
   "metadata": {},
   "outputs": [],
   "source": [
    "response = requests.get(\"https://jsonplaceholder.typicode.com/posts?userId=1\")\n",
    "\n",
    "print(response.content)"
   ]
  },
  {
   "cell_type": "code",
   "execution_count": null,
   "metadata": {},
   "outputs": [],
   "source": [
    "print(response.text)"
   ]
  },
  {
   "cell_type": "code",
   "execution_count": null,
   "metadata": {},
   "outputs": [],
   "source": [
    "print(response.json())"
   ]
  },
  {
   "cell_type": "code",
   "execution_count": null,
   "metadata": {},
   "outputs": [],
   "source": [
    "print(type(response.content))\n",
    "print(type(response.json()))\n",
    "print(type(response.text))"
   ]
  },
  {
   "cell_type": "code",
   "execution_count": null,
   "metadata": {},
   "outputs": [],
   "source": [
    "print(response.json()[0], '\\n')\n",
    "print(response.json()[0]['title'], '\\n')\n",
    "\n",
    "for elem in response.json():\n",
    "    print(elem['title'])"
   ]
  },
  {
   "cell_type": "markdown",
   "metadata": {},
   "source": [
    "<img src=\"img/whiteimage.png\" style=\"width:650px\">"
   ]
  },
  {
   "cell_type": "markdown",
   "metadata": {},
   "source": [
    "##### XML   \n",
    "\n",
    "XML stands for \"Extensible Markup Language\". It is mainly used in webpages, where the data has a specific structure and is understood dynamically by the XML framework.\n",
    "\n",
    "XML creates a tree-like structure that is easy to interpret and supports a hierarchy. Whenever a page follows XML, it can be called an XML document.\n",
    "\n",
    "* XML documents have sections, called elements, defined by a beginning and an ending tag. A tag is a markup construct that begins with < and ends with >. The characters between the start-tag and end-tag, if there are any, are the element's content. Elements can contain markup, including other elements, which are called \"child elements\".\n",
    "\n",
    "\n",
    "* The largest, top-level element is called the root, which contains all other elements.\n",
    "\n",
    "\n",
    "* Attributes are name–value pair that exist within a start-tag or empty-element tag. An XML attribute can only have a single value and each attribute can appear at most once on each element.\n"
   ]
  },
  {
   "cell_type": "markdown",
   "metadata": {},
   "source": [
    "<img src=\"img/whiteimage.png\" style=\"width:650px\">"
   ]
  },
  {
   "cell_type": "markdown",
   "metadata": {},
   "source": [
    "###### Elements\n",
    "\n",
    "**Tag**\tIt is a string representing the type of data being stored\n",
    "\n",
    "**Attributes**\tConsists of a number of attributes stored as dictionaries\n",
    "\n",
    "**Text String**\tA text string having information that needs to be displayed\n",
    "\n",
    "**Child Elements**\tConsists of a number of  child elements stored as sequences\n",
    "\n",
    "Below you can see an example:"
   ]
  },
  {
   "cell_type": "markdown",
   "metadata": {},
   "source": [
    "~~~~\n",
    "<?xml version=\"1.0\" encoding=\"UTF-8\"?>\n",
    "<metadata>\n",
    "<food>\n",
    "    <item name=\"breakfast\">Idly</item>\n",
    "    <price>$2.5</price>\n",
    "    <description>\n",
    "   Two idly's with chutney\n",
    "   </description>\n",
    "    <calories>553</calories>\n",
    "</food>\n",
    "<food>\n",
    "    <item name=\"breakfast\">Paper Dosa</item>\n",
    "    <price>$2.7</price>\n",
    "    <description>\n",
    "    Plain paper dosa with chutney\n",
    "    </description>\n",
    "    <calories>700</calories>\n",
    "</food>\n",
    "<food>\n",
    "    <item name=\"breakfast\">Upma</item>\n",
    "    <price>$3.65</price>\n",
    "    <description>\n",
    "    Rava upma with bajji\n",
    "    </description>\n",
    "    <calories>600</calories>\n",
    "</food>\n",
    "<food>\n",
    "    <item name=\"breakfast\">Bisi Bele Bath</item>\n",
    "    <price>$4.50</price>\n",
    "    <description>\n",
    "   Bisi Bele Bath with sev\n",
    "    </description>\n",
    "    <calories>400</calories>\n",
    "</food>\n",
    "<food>\n",
    "    <item name=\"breakfast\">Kesari Bath</item>\n",
    "    <price>$1.95</price>\n",
    "    <description>\n",
    "    Sweet rava with saffron\n",
    "    </description>\n",
    "    <calories>950</calories>\n",
    "</food>\n",
    "</metadata>\n",
    "~~~~"
   ]
  },
  {
   "cell_type": "code",
   "execution_count": null,
   "metadata": {},
   "outputs": [],
   "source": [
    "r = requests.get('http://www.mocky.io/v2/5e7a343330000066749308b2') \n",
    "#https://www.mocky.io/\n",
    "#https://www.edureka.co/blog/python-xml-parser-tutorial/\n",
    "print(r.content)"
   ]
  },
  {
   "cell_type": "code",
   "execution_count": null,
   "metadata": {},
   "outputs": [],
   "source": [
    "import xml.etree.ElementTree as ET\n",
    "root = ET.fromstring(r.content) #https://docs.python.org/3/library/xml.etree.elementtree.html\n",
    "print(root)\n",
    "print(root.tag)\n",
    "print(root.attrib)"
   ]
  },
  {
   "cell_type": "code",
   "execution_count": null,
   "metadata": {},
   "outputs": [],
   "source": [
    "#print first element tag\n",
    "print(root[0].tag)"
   ]
  },
  {
   "cell_type": "code",
   "execution_count": null,
   "metadata": {},
   "outputs": [],
   "source": [
    "#print elements tag\n",
    "for child in root:\n",
    "    print(child.tag)"
   ]
  },
  {
   "cell_type": "code",
   "execution_count": null,
   "metadata": {},
   "outputs": [],
   "source": [
    "#get elements information\n",
    "for x in root[0]:\n",
    "     print('tag: ', x.tag, 'attrib: ', x.attrib, 'text: ', x.text)"
   ]
  },
  {
   "cell_type": "code",
   "execution_count": null,
   "metadata": {},
   "outputs": [],
   "source": [
    "for child in root:\n",
    "    for elem in child:\n",
    "        print(elem.tag, elem.text)\n",
    "    print()"
   ]
  },
  {
   "cell_type": "code",
   "execution_count": null,
   "metadata": {},
   "outputs": [],
   "source": [
    "for x in root.findall('food'):\n",
    "    item =x.find('item').text\n",
    "    price = x.find('price').text\n",
    "    print(item, price)"
   ]
  },
  {
   "cell_type": "code",
   "execution_count": null,
   "metadata": {},
   "outputs": [],
   "source": [
    "for x in root.findall('food'):\n",
    "    for item in x.findall('item'):\n",
    "        print (item.text)"
   ]
  },
  {
   "cell_type": "markdown",
   "metadata": {},
   "source": [
    "<img src=\"img/whiteimage.png\" style=\"width:650px\">"
   ]
  },
  {
   "cell_type": "markdown",
   "metadata": {},
   "source": [
    "So we can GET data in JSON or XML format, but we can also\n",
    "* Post (Send data)\n",
    "* Put and Patch (Update Data)\n",
    "* Delete (Delete data)\n",
    "\n",
    "\n",
    "\n",
    "##### Post"
   ]
  },
  {
   "cell_type": "code",
   "execution_count": null,
   "metadata": {},
   "outputs": [],
   "source": [
    "url = 'https://jsonplaceholder.typicode.com/posts'\n",
    "myobj = {'title': 'foo', 'body': 'bar', 'userId': 1}\n",
    "\n",
    "r = requests.post(url, data = myobj)\n",
    "\n",
    "print(r.status_code, r.json()) #or x.text"
   ]
  },
  {
   "cell_type": "markdown",
   "metadata": {},
   "source": [
    "##### Put"
   ]
  },
  {
   "cell_type": "code",
   "execution_count": null,
   "metadata": {},
   "outputs": [],
   "source": [
    "r = requests.put('https://jsonplaceholder.typicode.com/posts/1', data = {'title': 'foo','body': 'bar','userId': 1})\n",
    "\n",
    "print(r.status_code, r.json()) #or x.text"
   ]
  },
  {
   "cell_type": "markdown",
   "metadata": {},
   "source": [
    "##### Delete"
   ]
  },
  {
   "cell_type": "code",
   "execution_count": null,
   "metadata": {},
   "outputs": [],
   "source": [
    "r = requests.delete('https://jsonplaceholder.typicode.com/posts/1')\n",
    "\n",
    "print(r.status_code, r.json())"
   ]
  },
  {
   "cell_type": "markdown",
   "metadata": {},
   "source": [
    "<img src=\"img/whiteimage.png\" style=\"width:650px\">"
   ]
  },
  {
   "cell_type": "markdown",
   "metadata": {},
   "source": [
    "___\n",
    "\n",
    "### How can I provide my own data as a REST API?\n",
    "\n",
    "You can use flask to create an API and expose the endpoints (for reference https://programminghistorian.org/en/lessons/creating-apis-with-python-and-flask)\n",
    "\n",
    "You can find the next code in the python file server_example.py\n",
    "```\n",
    "import flask\n",
    "from flask import request, jsonify\n",
    "\n",
    "app = flask.Flask(__name__)\n",
    "app.config[\"DEBUG\"] = True\n",
    "\n",
    "# Create some test data for our catalog in the form of a list of dictionaries.\n",
    "books = [\n",
    "    {'id': 0,\n",
    "     'title': 'A Fire Upon the Deep',\n",
    "     'author': 'Vernor Vinge',\n",
    "     'first_sentence': 'The coldsleep itself was dreamless.',\n",
    "     'year_published': '1992'},\n",
    "    {'id': 1,\n",
    "     'title': 'The Ones Who Walk Away From Omelas',\n",
    "     'author': 'Ursula K. Le Guin',\n",
    "     'first_sentence': 'With a clamor of bells that set the swallows soaring, the Festival of Summer came to the city Omelas, bright-towered by the sea.',\n",
    "     'published': '1973'},\n",
    "    {'id': 2,\n",
    "     'title': 'Dhalgren',\n",
    "     'author': 'Samuel R. Delany',\n",
    "     'first_sentence': 'to wound the autumnal city.',\n",
    "     'published': '1975'}\n",
    "]\n",
    "\n",
    "\n",
    "@app.route('/')\n",
    "def hello_world():\n",
    "    return jsonify([{'Hello': 'World!'}])\n",
    "\n",
    "\n",
    "# A route to return all of the available entries in our catalog.\n",
    "@app.route('/api/v1/resources/books/all', methods=['GET'])\n",
    "def api_all():\n",
    "    return jsonify(books)\n",
    "\n",
    "app.run()\n",
    "\n",
    "```\n",
    "\n",
    "Then run `python myfile.py`"
   ]
  },
  {
   "cell_type": "code",
   "execution_count": null,
   "metadata": {},
   "outputs": [],
   "source": [
    "r = requests.get('http://127.0.0.1:5000')\n",
    "print(r.status_code)\n",
    "print(r.json())"
   ]
  },
  {
   "cell_type": "code",
   "execution_count": null,
   "metadata": {},
   "outputs": [],
   "source": [
    "r = requests.get('http://127.0.0.1:5000/api/v1/resources/books/all')\n",
    "print(r.status_code)\n",
    "print(r.json())"
   ]
  },
  {
   "cell_type": "markdown",
   "metadata": {},
   "source": [
    "#### References \n",
    "\n",
    "https://towardsdatascience.com/twitter-data-collection-tutorial-using-python-3267d7cfa93e (highly recommended)\n",
    "\n",
    "https://www.datacamp.com/community/tutorials/python-xml-elementtree\n",
    "\n",
    "https://sdbrett.com/BrettsITBlog/2017/03/python-parsing-api-xml-response-data/"
   ]
  },
  {
   "cell_type": "markdown",
   "metadata": {},
   "source": [
    "<img src=\"img/whiteimage.png\" style=\"width:650px\">"
   ]
  },
  {
   "cell_type": "markdown",
   "metadata": {},
   "source": [
    "___\n",
    "## Web Scraping\n",
    "\n",
    "What can I do if the data I need is not available trough APIs?"
   ]
  },
  {
   "cell_type": "markdown",
   "metadata": {},
   "source": [
    "Install conda using:\n",
    "`pip3 install selenium`\n",
    "or\n",
    "`conda install -c conda-forge selenium`\n",
    "\n",
    "Download the driver for your Chrome version https://chromedriver.chromium.org/downloads"
   ]
  },
  {
   "cell_type": "code",
   "execution_count": null,
   "metadata": {},
   "outputs": [],
   "source": [
    "from selenium import webdriver"
   ]
  },
  {
   "cell_type": "code",
   "execution_count": null,
   "metadata": {},
   "outputs": [],
   "source": [
    "wd = webdriver.Chrome(executable_path=r\"/Users/edwin.jimenez/Saturdays AI/chromedriver\")"
   ]
  },
  {
   "cell_type": "code",
   "execution_count": null,
   "metadata": {},
   "outputs": [],
   "source": [
    "wd.get('https://dev.to/lewiskori/beginner-s-guide-to-web-scraping-with-python-s-selenium-3fl9') "
   ]
  },
  {
   "cell_type": "markdown",
   "metadata": {},
   "source": [
    "<img src=\"img/whiteimage.png\" style=\"width:650px\">"
   ]
  },
  {
   "cell_type": "markdown",
   "metadata": {},
   "source": [
    "Before we go further we need to know Xpath\n",
    "\n",
    "### What is XPath? [reference](https://www.guru99.com/xpath-selenium.html)\n",
    "\n",
    "XPath is defined as XML path. It is a syntax or language for finding any element on the web page using XML path expression. XPath is used to find the location of any element on a webpage using HTML DOM (The Document Object Model is a cross-platform and language-independent interface that treats an XML or HTML document as a tree structure wherein each node is an object representing a part of the document. [reference](https://en.wikipedia.org/wiki/Document_Object_Model)) structure. The basic format of XPath is explained below with screenshot. \n",
    "<img src=\"https://www.guru99.com/images/3-2016/032816_0758_XPathinSele1.png\" style=\"width:600px\">\n",
    "\n",
    "#### Syntax for XPath:\n",
    "\n",
    "XPath contains the path of the element situated at the web page. Standard syntax for creating XPath is.\n",
    "\n",
    "`Xpath=//tagname[@attribute='value']`\n",
    "\n",
    "- // : Select current node.\n",
    "\n",
    "- Tagname: Tagname of the particular node.\n",
    "\n",
    "- @: Select attribute.\n",
    "\n",
    "- Attribute: Attribute name of the node.\n",
    "\n",
    "- Value: Value of the attribute. "
   ]
  },
  {
   "cell_type": "markdown",
   "metadata": {},
   "source": [
    "To find the element on web pages accurately there are different types of locators:\n",
    "\n",
    "| Xpath Locators \t| Find different elements on web page                                                                  \t|\n",
    "|--------------\t|------------------------------------------------------------------------------------------------------\t|\n",
    "| ID             \t| To find the element by ID of the element                                                             \t|\n",
    "| Classname      \t| To find the element by Classname of the element                                                      \t|\n",
    "| Link text      \t| To find the element by text of the link                                                              \t|\n",
    "| XPath          \t| XPath required for finding the dynamic element and traverse between various elements of the web page \t|"
   ]
  },
  {
   "cell_type": "markdown",
   "metadata": {},
   "source": [
    "<img src=\"img/whiteimage.png\" style=\"width:650px\">"
   ]
  },
  {
   "cell_type": "markdown",
   "metadata": {},
   "source": [
    "#### Types of Xpath\n",
    "\n",
    "* Absolute XPath\n",
    "\n",
    "It is the direct way to find the element, but the disadvantage of the absolute XPath is that if there are any changes made in the path of the element then that XPath gets failed.\n",
    "\n",
    "The key characteristic of XPath is that it begins with the single forward slash(/), which means you can select the element from the root node.\n",
    "\n",
    "For example:\n",
    "`/html/body/div[2]/section[3]/div/div[1]/main/div[1]/div/div/div/div/div/div[2]/p[3]`\n",
    "\n",
    "* Relative Xpath\n",
    "\n",
    "For Relative Xpath the path starts from the middle of the HTML DOM structure. It starts with the double forward slash (//), which means it can search the element anywhere at the webpage.\n",
    "\n",
    "You can start from the middle of the HTML DOM structure and no need to write long xpath.\n",
    "\n",
    "For example, for the same element that the absolute Xpath refers to this is the relative Xpath\n",
    "`//*[@id=\"g-mainbar\"]/div[1]/div/div/div/div/div/div[2]/p[3]`\n",
    "\n",
    "Try it!\n",
    "* Go to your Chrome window. \n",
    "* Do right-click and select `Inspect`, look for an element. \n",
    "* Do right-click and select copy, choose to copy Xpath or full Xpath.\n",
    "\n"
   ]
  },
  {
   "cell_type": "markdown",
   "metadata": {},
   "source": [
    "<img src=\"img/whiteimage.png\" style=\"width:650px\">"
   ]
  },
  {
   "cell_type": "markdown",
   "metadata": {},
   "source": [
    "#### Example"
   ]
  },
  {
   "cell_type": "code",
   "execution_count": null,
   "metadata": {},
   "outputs": [],
   "source": [
    "wd.get('http://quotes.toscrape.com/page/1/') "
   ]
  },
  {
   "cell_type": "code",
   "execution_count": null,
   "metadata": {},
   "outputs": [],
   "source": [
    "quotes = wd.find_elements_by_class_name(\"quote\")\n",
    "for quote in quotes:\n",
    "    print(quote)"
   ]
  },
  {
   "cell_type": "code",
   "execution_count": null,
   "metadata": {},
   "outputs": [],
   "source": [
    "quotes = wd.find_elements_by_class_name(\"quote\")\n",
    "for quote in quotes:\n",
    "    quote_text = quote.find_element_by_class_name('text')\n",
    "    author = quote.find_element_by_class_name('author')\n",
    "    tags = quote.find_element_by_class_name('tags')\n",
    "    print(quote_text, author, tags)"
   ]
  },
  {
   "cell_type": "code",
   "execution_count": null,
   "metadata": {},
   "outputs": [],
   "source": [
    "#we want to access the text value\n",
    "quotes = wd.find_elements_by_class_name(\"quote\")\n",
    "for quote in quotes:\n",
    "    quote_text = quote.find_element_by_class_name('text').text\n",
    "    author = quote.find_element_by_class_name('author').text\n",
    "    tags = quote.find_element_by_class_name('tags').text\n",
    "    print(quote_text, '\\n', author, '\\n', tags, '\\n')"
   ]
  },
  {
   "cell_type": "code",
   "execution_count": null,
   "metadata": {},
   "outputs": [],
   "source": [
    "#### what if we cant the quotes of the first 10 pages?\n",
    "def get_quotes(wd):\n",
    "    for i in range(1,11):\n",
    "        wd.get('http://quotes.toscrape.com/page/'+str(i)+'/')\n",
    "        quotes = wd.find_elements_by_class_name(\"quote\")\n",
    "        for quote in quotes:\n",
    "            quote_text = quote.find_element_by_class_name('text').text\n",
    "            author = quote.find_element_by_class_name('author').text\n",
    "            tags = quote.find_element_by_class_name('tags').text\n",
    "            print(quote_text, '\\n', author, '\\n', tags, '\\n')"
   ]
  },
  {
   "cell_type": "code",
   "execution_count": null,
   "metadata": {},
   "outputs": [],
   "source": [
    "get_quotes(wd)"
   ]
  },
  {
   "cell_type": "code",
   "execution_count": null,
   "metadata": {},
   "outputs": [],
   "source": [
    "from selenium.webdriver.chrome.options import Options\n",
    "\n",
    "options = Options()\n",
    "options.add_argument('--headless')\n",
    "wd = webdriver.Chrome(executable_path=r\"/Users/edwin.jimenez/Saturdays AI/chromedriver\", chrome_options=options)\n",
    "get_quotes(wd)\n",
    "wd.quit()"
   ]
  },
  {
   "cell_type": "markdown",
   "metadata": {},
   "source": [
    "<img src=\"img/whiteimage.png\" style=\"width:650px\">"
   ]
  },
  {
   "cell_type": "markdown",
   "metadata": {},
   "source": [
    "Imagine that you want to know daily which one is the best mexican bank to buy or sell dollars, but the site you visit [el dolar](https://www.eldolar.info/en/mexico/dia/hoy) does not have an API :(\n",
    "\n",
    "How can you get the data?"
   ]
  },
  {
   "cell_type": "code",
   "execution_count": null,
   "metadata": {},
   "outputs": [],
   "source": [
    "from selenium.webdriver.common.by import By\n",
    "\n",
    "wd = webdriver.Chrome(executable_path=r\"/Users/edwin.jimenez/Saturdays AI/chromedriver\")#, chrome_options=options)\n",
    "wd.get('https://www.eldolar.info/en/mexico/dia/hoy')\n",
    "menu = wd.find_element_by_tag_name('tbody')\n",
    "all_tr = menu.find_elements_by_tag_name(\"tr\")\n",
    "for tr in all_tr:\n",
    "    bank_name = tr.find_element_by_class_name('small-hide').text\n",
    "    buy_sell = tr.find_elements_by_class_name('xTimes')\n",
    "    if len(buy_sell)>1:\n",
    "        buy = buy_sell[0].text\n",
    "        sell = buy_sell[1].text\n",
    "    else:\n",
    "        buy = buy_sell[0].text\n",
    "        sell = buy_sell[0].text\n",
    "    print('Bank: ', bank_name, 'Buy: ', buy, 'Sell:', sell)\n",
    "wd.quit()"
   ]
  },
  {
   "cell_type": "markdown",
   "metadata": {},
   "source": [
    "<img src=\"img/whiteimage.png\" style=\"width:650px\">"
   ]
  },
  {
   "cell_type": "markdown",
   "metadata": {},
   "source": [
    "---\n",
    "Let's try it with a page that you know, get the top navigation bar elements by class\n"
   ]
  },
  {
   "cell_type": "code",
   "execution_count": null,
   "metadata": {},
   "outputs": [],
   "source": [
    "from selenium.webdriver.common.by import By\n",
    "\n",
    "wd = webdriver.Chrome(executable_path=r\"/Users/edwin.jimenez/Saturdays AI/chromedriver\")#, chrome_options=options)\n",
    "wd.get('https://sites.google.com/view/saturdays-ai-guadalajara')\n",
    "menu = wd.find_elements_by_class_name('VsJjtf')\n",
    "for elem in menu:\n",
    "    print (elem.text)\n",
    "wd.quit()"
   ]
  },
  {
   "cell_type": "code",
   "execution_count": null,
   "metadata": {},
   "outputs": [],
   "source": [
    "#but what will happen if the class name is changed?\n",
    "from selenium.webdriver.common.by import By\n",
    "\n",
    "wd = webdriver.Chrome(executable_path=r\"/Users/edwin.jimenez/Saturdays AI/chromedriver\")#, chrome_options=options)\n",
    "wd.get('https://sites.google.com/view/saturdays-ai-guadalajara')\n",
    "menu = wd.find_element_by_xpath('//*[@id=\"WDxLfe\"]/ul').text\n",
    "print(menu)\n",
    "wd.quit()"
   ]
  },
  {
   "cell_type": "code",
   "execution_count": null,
   "metadata": {},
   "outputs": [],
   "source": [
    "wd = webdriver.Chrome(executable_path=r\"/Users/edwin.jimenez/Saturdays AI/chromedriver\")#, chrome_options=options)\n",
    "wd.get('https://sites.google.com/view/saturdays-ai-guadalajara')\n",
    "menu = wd.find_element_by_xpath('//*[@id=\"WDxLfe\"]/ul')\n",
    "all_li = menu.find_elements_by_tag_name(\"li\")\n",
    "for li in all_li:\n",
    "    text = li.text\n",
    "    if text != '':\n",
    "        print (text)\n",
    "wd.quit()\n"
   ]
  },
  {
   "cell_type": "markdown",
   "metadata": {},
   "source": [
    "<img src=\"img/whiteimage.png\" style=\"width:650px\">"
   ]
  },
  {
   "cell_type": "markdown",
   "metadata": {},
   "source": [
    "### Homework \n",
    "Extract the `Programa` information from https://sites.google.com/view/saturdays-ai-guadalajara/calendario-de-actividades"
   ]
  },
  {
   "cell_type": "markdown",
   "metadata": {},
   "source": [
    "#### References\n",
    "https://dev.to/lewiskori/beginner-s-guide-to-web-scraping-with-python-s-selenium-3fl9\n",
    "\n",
    "https://medium.com/shakuro/adopting-ipython-jupyter-for-selenium-testing-d02309dd00b8"
   ]
  }
 ],
 "metadata": {
  "kernelspec": {
   "display_name": "Python 3",
   "language": "python",
   "name": "python3"
  },
  "language_info": {
   "codemirror_mode": {
    "name": "ipython",
    "version": 3
   },
   "file_extension": ".py",
   "mimetype": "text/x-python",
   "name": "python",
   "nbconvert_exporter": "python",
   "pygments_lexer": "ipython3",
   "version": "3.7.3"
  }
 },
 "nbformat": 4,
 "nbformat_minor": 2
}
